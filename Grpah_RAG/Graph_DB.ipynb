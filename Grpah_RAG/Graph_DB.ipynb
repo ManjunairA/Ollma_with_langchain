{
 "cells": [
  {
   "cell_type": "code",
   "execution_count": 2,
   "metadata": {
    "colab": {
     "base_uri": "https://localhost:8080/"
    },
    "executionInfo": {
     "elapsed": 9645,
     "status": "ok",
     "timestamp": 1722442929156,
     "user": {
      "displayName": "Manjunatha A",
      "userId": "04213958549566562790"
     },
     "user_tz": -330
    },
    "id": "fU31zu1GltRF",
    "outputId": "e4d2d6d2-eba6-4810-be71-e26de2de5b28"
   },
   "outputs": [
    {
     "name": "stdout",
     "output_type": "stream",
     "text": [
      "\u001b[2K     \u001b[90m━━━━━━━━━━━━━━━━━━━━━━━━━━━━━━━━━━━━━━━━\u001b[0m \u001b[32m50.4/50.4 kB\u001b[0m \u001b[31m4.2 MB/s\u001b[0m eta \u001b[36m0:00:00\u001b[0m\n",
      "\u001b[2K   \u001b[90m━━━━━━━━━━━━━━━━━━━━━━━━━━━━━━━━━━━━━━━━\u001b[0m \u001b[32m990.3/990.3 kB\u001b[0m \u001b[31m26.2 MB/s\u001b[0m eta \u001b[36m0:00:00\u001b[0m\n",
      "\u001b[2K   \u001b[90m━━━━━━━━━━━━━━━━━━━━━━━━━━━━━━━━━━━━━━━━\u001b[0m \u001b[32m2.3/2.3 MB\u001b[0m \u001b[31m79.1 MB/s\u001b[0m eta \u001b[36m0:00:00\u001b[0m\n",
      "\u001b[2K   \u001b[90m━━━━━━━━━━━━━━━━━━━━━━━━━━━━━━━━━━━━━━━━\u001b[0m \u001b[32m293.7/293.7 kB\u001b[0m \u001b[31m25.7 MB/s\u001b[0m eta \u001b[36m0:00:00\u001b[0m\n",
      "\u001b[2K   \u001b[90m━━━━━━━━━━━━━━━━━━━━━━━━━━━━━━━━━━━━━━━━\u001b[0m \u001b[32m103.5/103.5 kB\u001b[0m \u001b[31m9.4 MB/s\u001b[0m eta \u001b[36m0:00:00\u001b[0m\n",
      "\u001b[2K   \u001b[90m━━━━━━━━━━━━━━━━━━━━━━━━━━━━━━━━━━━━━━━━\u001b[0m \u001b[32m377.6/377.6 kB\u001b[0m \u001b[31m29.1 MB/s\u001b[0m eta \u001b[36m0:00:00\u001b[0m\n",
      "\u001b[2K   \u001b[90m━━━━━━━━━━━━━━━━━━━━━━━━━━━━━━━━━━━━━━━━\u001b[0m \u001b[32m139.9/139.9 kB\u001b[0m \u001b[31m13.3 MB/s\u001b[0m eta \u001b[36m0:00:00\u001b[0m\n",
      "\u001b[2K   \u001b[90m━━━━━━━━━━━━━━━━━━━━━━━━━━━━━━━━━━━━━━━━\u001b[0m \u001b[32m75.6/75.6 kB\u001b[0m \u001b[31m6.5 MB/s\u001b[0m eta \u001b[36m0:00:00\u001b[0m\n",
      "\u001b[2K   \u001b[90m━━━━━━━━━━━━━━━━━━━━━━━━━━━━━━━━━━━━━━━━\u001b[0m \u001b[32m77.9/77.9 kB\u001b[0m \u001b[31m6.9 MB/s\u001b[0m eta \u001b[36m0:00:00\u001b[0m\n",
      "\u001b[2K   \u001b[90m━━━━━━━━━━━━━━━━━━━━━━━━━━━━━━━━━━━━━━━━\u001b[0m \u001b[32m49.2/49.2 kB\u001b[0m \u001b[31m4.2 MB/s\u001b[0m eta \u001b[36m0:00:00\u001b[0m\n",
      "\u001b[2K   \u001b[90m━━━━━━━━━━━━━━━━━━━━━━━━━━━━━━━━━━━━━━━━\u001b[0m \u001b[32m141.1/141.1 kB\u001b[0m \u001b[31m13.1 MB/s\u001b[0m eta \u001b[36m0:00:00\u001b[0m\n",
      "\u001b[2K   \u001b[90m━━━━━━━━━━━━━━━━━━━━━━━━━━━━━━━━━━━━━━━━\u001b[0m \u001b[32m58.3/58.3 kB\u001b[0m \u001b[31m5.0 MB/s\u001b[0m eta \u001b[36m0:00:00\u001b[0m\n",
      "\u001b[?25h"
     ]
    }
   ],
   "source": [
    "#Installing the requirements\n",
    "!pip install --upgrade --quiet langchain langchain-community langchain-groq neo4j"
   ]
  },
  {
   "cell_type": "code",
   "execution_count": 3,
   "metadata": {
    "executionInfo": {
     "elapsed": 470,
     "status": "ok",
     "timestamp": 1722443036140,
     "user": {
      "displayName": "Manjunatha A",
      "userId": "04213958549566562790"
     },
     "user_tz": -330
    },
    "id": "nprCWj1emPbj"
   },
   "outputs": [],
   "source": [
    "#Grpah DB configuration\n",
    "NEO4J_URI = \"Enter the Neo4j URI\"\n",
    "NEO4J_USERNAME= \"Enter the Neo4j Username\"\n",
    "NEO4J_PASSWORD = \"Enter the Neo4j Password\""
   ]
  },
  {
   "cell_type": "code",
   "execution_count": 4,
   "metadata": {
    "executionInfo": {
     "elapsed": 606,
     "status": "ok",
     "timestamp": 1722443203636,
     "user": {
      "displayName": "Manjunatha A",
      "userId": "04213958549566562790"
     },
     "user_tz": -330
    },
    "id": "UrXfVt98mv_p"
   },
   "outputs": [],
   "source": [
    "#Importing the URI, Name and Password from environment if you are not defined above\n",
    "import os\n",
    "os.environ[\"NEO4J_URI\"] = NEO4J_URI\n",
    "os.environ[\"NEO4J_USERNAME\"] = NEO4J_USERNAME\n",
    "os.environ[\"NEO4J_PASSWORD\"] = NEO4J_PASSWORD"
   ]
  },
  {
   "cell_type": "code",
   "execution_count": 5,
   "metadata": {
    "executionInfo": {
     "elapsed": 3964,
     "status": "ok",
     "timestamp": 1722443329597,
     "user": {
      "displayName": "Manjunatha A",
      "userId": "04213958549566562790"
     },
     "user_tz": -330
    },
    "id": "bfEND_ubnX8F"
   },
   "outputs": [],
   "source": [
    "#Initialize the Neo4jGrpah\n",
    "from langchain_community.graphs import Neo4jGraph\n",
    "graph = Neo4jGraph(\n",
    "    url=NEO4J_URI,\n",
    "    username=NEO4J_USERNAME,\n",
    "    password=NEO4J_PASSWORD,\n",
    ")\n"
   ]
  },
  {
   "cell_type": "code",
   "execution_count": 6,
   "metadata": {
    "colab": {
     "base_uri": "https://localhost:8080/"
    },
    "executionInfo": {
     "elapsed": 4,
     "status": "ok",
     "timestamp": 1722443337557,
     "user": {
      "displayName": "Manjunatha A",
      "userId": "04213958549566562790"
     },
     "user_tz": -330
    },
    "id": "m8MzsK2yn120",
    "outputId": "06aecd9e-43ce-40d1-9171-e0e3773ea8f8"
   },
   "outputs": [
    {
     "data": {
      "text/plain": [
       "<langchain_community.graphs.neo4j_graph.Neo4jGraph at 0x7e0c80252320>"
      ]
     },
     "execution_count": 6,
     "metadata": {},
     "output_type": "execute_result"
    }
   ],
   "source": [
    "#Create the graph instance\n",
    "graph"
   ]
  },
  {
   "cell_type": "code",
   "execution_count": 7,
   "metadata": {
    "executionInfo": {
     "elapsed": 494,
     "status": "ok",
     "timestamp": 1722443682949,
     "user": {
      "displayName": "Manjunatha A",
      "userId": "04213958549566562790"
     },
     "user_tz": -330
    },
    "id": "gDBHxcyfn4k0"
   },
   "outputs": [],
   "source": [
    "#Groq API instance\n",
    "groq_api_key = \"Enter the GroQ API key\""
   ]
  },
  {
   "cell_type": "code",
   "execution_count": 9,
   "metadata": {
    "colab": {
     "base_uri": "https://localhost:8080/"
    },
    "executionInfo": {
     "elapsed": 732,
     "status": "ok",
     "timestamp": 1722443864809,
     "user": {
      "displayName": "Manjunatha A",
      "userId": "04213958549566562790"
     },
     "user_tz": -330
    },
    "id": "najEOQXvpMwB",
    "outputId": "f3c8cd89-1ead-43cb-960c-f27717191ff9"
   },
   "outputs": [
    {
     "data": {
      "text/plain": [
       "ChatGroq(client=<groq.resources.chat.completions.Completions object at 0x7e0c45b145e0>, async_client=<groq.resources.chat.completions.AsyncCompletions object at 0x7e0c45b151b0>, model_name='Gemma2-9b-It', groq_api_key=SecretStr('**********'))"
      ]
     },
     "execution_count": 9,
     "metadata": {},
     "output_type": "execute_result"
    }
   ],
   "source": [
    "#Initialize the Gemma model using GROQ\n",
    "from langchain_groq import ChatGroq\n",
    "llm = ChatGroq(groq_api_key = groq_api_key, model_name = \"Gemma2-9b-It\")\n",
    "llm"
   ]
  },
  {
   "cell_type": "code",
   "execution_count": 17,
   "metadata": {
    "executionInfo": {
     "elapsed": 487,
     "status": "ok",
     "timestamp": 1722444313684,
     "user": {
      "displayName": "Manjunatha A",
      "userId": "04213958549566562790"
     },
     "user_tz": -330
    },
    "id": "xERJ8M8up1-_"
   },
   "outputs": [],
   "source": [
    "#Loading the document\n",
    "from langchain_core.documents import Document\n",
    "\n",
    "text = \"\"\"India, a diverse and vibrant country in South Asia, is known for its rich cultural heritage, ancient history, and rapid economic growth. It is the world's largest democracy, with a population exceeding 1.4 billion people. India has a multifaceted society with numerous languages, religions, and traditions. It boasts significant contributions to art, literature, science, and technology. The country has a varied landscape, ranging from the Himalayan mountain range to the tropical beaches of the Indian Ocean. India's economy is one of the fastest-growing in the world, driven by industries such as information technology, manufacturing, and services.\"\"\"\n",
    "documents = [Document(page_content=text)]\n"
   ]
  },
  {
   "cell_type": "code",
   "execution_count": 11,
   "metadata": {
    "colab": {
     "base_uri": "https://localhost:8080/"
    },
    "executionInfo": {
     "elapsed": 3,
     "status": "ok",
     "timestamp": 1722444042487,
     "user": {
      "displayName": "Manjunatha A",
      "userId": "04213958549566562790"
     },
     "user_tz": -330
    },
    "id": "ui63RGZ_qhDJ",
    "outputId": "b85697e6-61aa-4b3b-cf43-3796cd022cb4"
   },
   "outputs": [
    {
     "data": {
      "text/plain": [
       "Document(page_content=\"India, a diverse and vibrant country in South Asia, is known for its rich cultural heritage, ancient history, and rapid economic growth. It is the world's largest democracy, with a population exceeding 1.4 billion people. India has a multifaceted society with numerous languages, religions, and traditions. It boasts significant contributions to art, literature, science, and technology. The country has a varied landscape, ranging from the Himalayan mountain range to the tropical beaches of the Indian Ocean. India's economy is one of the fastest-growing in the world, driven by industries such as information technology, manufacturing, and services.\")"
      ]
     },
     "execution_count": 11,
     "metadata": {},
     "output_type": "execute_result"
    }
   ],
   "source": [
    "documents"
   ]
  },
  {
   "cell_type": "code",
   "execution_count": 13,
   "metadata": {
    "executionInfo": {
     "elapsed": 2618,
     "status": "ok",
     "timestamp": 1722444158030,
     "user": {
      "displayName": "Manjunatha A",
      "userId": "04213958549566562790"
     },
     "user_tz": -330
    },
    "id": "pkqHQ5h6qkgW"
   },
   "outputs": [],
   "source": [
    "!pip install --upgrade --quiet langchain_experimental"
   ]
  },
  {
   "cell_type": "code",
   "execution_count": 18,
   "metadata": {
    "executionInfo": {
     "elapsed": 487,
     "status": "ok",
     "timestamp": 1722444317094,
     "user": {
      "displayName": "Manjunatha A",
      "userId": "04213958549566562790"
     },
     "user_tz": -330
    },
    "id": "dgt7Pz5mq_rL"
   },
   "outputs": [],
   "source": [
    "#Convert the document into graph understandable document\n",
    "from langchain_experimental.graph_transformers import LLMGraphTransformer\n",
    "llm_transformer = LLMGraphTransformer(\n",
    "    llm=llm)"
   ]
  },
  {
   "cell_type": "code",
   "execution_count": 21,
   "metadata": {
    "executionInfo": {
     "elapsed": 4155,
     "status": "ok",
     "timestamp": 1722444479109,
     "user": {
      "displayName": "Manjunatha A",
      "userId": "04213958549566562790"
     },
     "user_tz": -330
    },
    "id": "TC31CxsHrZ9f"
   },
   "outputs": [],
   "source": [
    "#Converting the doc to graph doc\n",
    "graph_documents = llm_transformer.convert_to_graph_documents(documents)"
   ]
  },
  {
   "cell_type": "code",
   "execution_count": 22,
   "metadata": {
    "colab": {
     "base_uri": "https://localhost:8080/"
    },
    "executionInfo": {
     "elapsed": 3,
     "status": "ok",
     "timestamp": 1722444479109,
     "user": {
      "displayName": "Manjunatha A",
      "userId": "04213958549566562790"
     },
     "user_tz": -330
    },
    "id": "5dBHsUK4rkRl",
    "outputId": "02ee1413-209c-4028-a44a-80dc9d39caee"
   },
   "outputs": [
    {
     "data": {
      "text/plain": [
       "[Node(id='India', type='Country')]"
      ]
     },
     "execution_count": 22,
     "metadata": {},
     "output_type": "execute_result"
    }
   ],
   "source": [
    "#Doc nodes created\n",
    "graph_documents[0].nodes"
   ]
  },
  {
   "cell_type": "code",
   "execution_count": 24,
   "metadata": {
    "colab": {
     "base_uri": "https://localhost:8080/"
    },
    "executionInfo": {
     "elapsed": 496,
     "status": "ok",
     "timestamp": 1722444527913,
     "user": {
      "displayName": "Manjunatha A",
      "userId": "04213958549566562790"
     },
     "user_tz": -330
    },
    "id": "wc_mMvB4sD7p",
    "outputId": "0657b24a-8e43-46ef-8af2-06bacc5d687b"
   },
   "outputs": [
    {
     "data": {
      "text/plain": [
       "[Relationship(source=Node(id='India', type='Country'), target=Node(id='South Asia', type='Continent'), type='LOCATED_IN'),\n",
       " Relationship(source=Node(id='India', type='Country'), target=Node(id='Democracy', type='Political_system'), type='IS_A'),\n",
       " Relationship(source=Node(id='India', type='Country'), target=Node(id='1.4 Billion People', type='Population'), type='HAS_POPULATION'),\n",
       " Relationship(source=Node(id='India', type='Country'), target=Node(id='Art', type='Cultural_domain'), type='HAS_CONTRIBUTION'),\n",
       " Relationship(source=Node(id='India', type='Country'), target=Node(id='Literature', type='Cultural_domain'), type='HAS_CONTRIBUTION'),\n",
       " Relationship(source=Node(id='India', type='Country'), target=Node(id='Science', type='Cultural_domain'), type='HAS_CONTRIBUTION'),\n",
       " Relationship(source=Node(id='India', type='Country'), target=Node(id='Technology', type='Cultural_domain'), type='HAS_CONTRIBUTION'),\n",
       " Relationship(source=Node(id='India', type='Country'), target=Node(id='Himalayan Mountain Range', type='Geographical_feature'), type='HAS_GEOGRAPHICAL_FEATURE'),\n",
       " Relationship(source=Node(id='India', type='Country'), target=Node(id='Tropical Beaches', type='Geographical_feature'), type='HAS_GEOGRAPHICAL_FEATURE'),\n",
       " Relationship(source=Node(id='India', type='Country'), target=Node(id='Information Technology', type='Industry'), type='HAS_INDUSTRY'),\n",
       " Relationship(source=Node(id='India', type='Country'), target=Node(id='Manufacturing', type='Industry'), type='HAS_INDUSTRY'),\n",
       " Relationship(source=Node(id='India', type='Country'), target=Node(id='Services', type='Industry'), type='HAS_INDUSTRY')]"
      ]
     },
     "execution_count": 24,
     "metadata": {},
     "output_type": "execute_result"
    }
   ],
   "source": [
    "#Doc Relationships\n",
    "graph_documents[0].relationships"
   ]
  },
  {
   "cell_type": "code",
   "execution_count": 32,
   "metadata": {
    "executionInfo": {
     "elapsed": 499,
     "status": "ok",
     "timestamp": 1722444846113,
     "user": {
      "displayName": "Manjunatha A",
      "userId": "04213958549566562790"
     },
     "user_tz": -330
    },
    "id": "hpaghzygsZM1"
   },
   "outputs": [],
   "source": [
    "### Load the dataset of movie\n",
    "\n",
    "movie_query=\"\"\"\n",
    "LOAD CSV WITH HEADERS FROM\n",
    "'https://raw.githubusercontent.com/tomasonjo/blog-datasets/main/movies/movies_small.csv' as row\n",
    "\n",
    "MERGE(m:Movie{id:row.movieId})\n",
    "SET m.released = date(row.released),\n",
    "    m.title = row.title,\n",
    "    m.imdbRating = toFloat(row.imdbRating)\n",
    "FOREACH (director in split(row.director, '|') |\n",
    "    MERGE (p:Person {name:trim(director)})\n",
    "    MERGE (p)-[:DIRECTED]->(m))\n",
    "FOREACH (actor in split(row.actors, '|') |\n",
    "    MERGE (p:Person {name:trim(actor)})\n",
    "    MERGE (p)-[:ACTED_IN]->(m))\n",
    "FOREACH (genre in split(row.genres, '|') |\n",
    "    MERGE (g:Genre {name:trim(genre)})\n",
    "    MERGE (m)-[:IN_GENRE]->(g))\n",
    "\"\"\""
   ]
  },
  {
   "cell_type": "code",
   "execution_count": 33,
   "metadata": {
    "colab": {
     "base_uri": "https://localhost:8080/"
    },
    "executionInfo": {
     "elapsed": 2,
     "status": "ok",
     "timestamp": 1722444847593,
     "user": {
      "displayName": "Manjunatha A",
      "userId": "04213958549566562790"
     },
     "user_tz": -330
    },
    "id": "Ro0U_oZBsyxn",
    "outputId": "643bb9b9-c1f1-41d7-a820-e07d2ce0b007"
   },
   "outputs": [
    {
     "data": {
      "text/plain": [
       "<langchain_community.graphs.neo4j_graph.Neo4jGraph at 0x7e0c80252320>"
      ]
     },
     "execution_count": 33,
     "metadata": {},
     "output_type": "execute_result"
    }
   ],
   "source": [
    "graph"
   ]
  },
  {
   "cell_type": "code",
   "execution_count": 34,
   "metadata": {
    "colab": {
     "base_uri": "https://localhost:8080/"
    },
    "executionInfo": {
     "elapsed": 1913,
     "status": "ok",
     "timestamp": 1722444850250,
     "user": {
      "displayName": "Manjunatha A",
      "userId": "04213958549566562790"
     },
     "user_tz": -330
    },
    "id": "Gl-0XZzhs0rZ",
    "outputId": "1bbeb9f7-377b-4f90-bc39-4d234c58bf4b"
   },
   "outputs": [
    {
     "data": {
      "text/plain": [
       "[]"
      ]
     },
     "execution_count": 34,
     "metadata": {},
     "output_type": "execute_result"
    }
   ],
   "source": [
    "# Query creation\n",
    "graph.query(movie_query)"
   ]
  },
  {
   "cell_type": "code",
   "execution_count": 35,
   "metadata": {
    "colab": {
     "base_uri": "https://localhost:8080/"
    },
    "executionInfo": {
     "elapsed": 1249,
     "status": "ok",
     "timestamp": 1722444851498,
     "user": {
      "displayName": "Manjunatha A",
      "userId": "04213958549566562790"
     },
     "user_tz": -330
    },
    "id": "axDRE58es3ii",
    "outputId": "c5494b8b-11cb-4a18-80ea-3bfea18a7e69"
   },
   "outputs": [
    {
     "name": "stdout",
     "output_type": "stream",
     "text": [
      "Node properties:\n",
      "Person {born: INTEGER, name: STRING}\n",
      "Movie {title: STRING, released: INTEGER, id: STRING, imdbRating: FLOAT}\n",
      "Genre {name: STRING}\n",
      "Relationship properties:\n",
      "\n",
      "The relationships:\n",
      "(:Person)-[:ACTED_IN]->(:Movie)\n",
      "(:Person)-[:DIRECTED]->(:Movie)\n",
      "(:Movie)-[:IN_GENRE]->(:Genre)\n"
     ]
    }
   ],
   "source": [
    "# Schema of the graph\n",
    "graph.refresh_schema()\n",
    "print(graph.schema)"
   ]
  },
  {
   "cell_type": "code",
   "execution_count": 36,
   "metadata": {
    "colab": {
     "base_uri": "https://localhost:8080/"
    },
    "executionInfo": {
     "elapsed": 2,
     "status": "ok",
     "timestamp": 1722444851498,
     "user": {
      "displayName": "Manjunatha A",
      "userId": "04213958549566562790"
     },
     "user_tz": -330
    },
    "id": "-3KBf6MRs6Pm",
    "outputId": "791d67b1-141a-418f-f61e-10b6250f92ee"
   },
   "outputs": [
    {
     "data": {
      "text/plain": [
       "GraphCypherQAChain(graph=<langchain_community.graphs.neo4j_graph.Neo4jGraph object at 0x7e0c80252320>, cypher_generation_chain=LLMChain(prompt=PromptTemplate(input_variables=['question', 'schema'], template='Task:Generate Cypher statement to query a graph database.\\nInstructions:\\nUse only the provided relationship types and properties in the schema.\\nDo not use any other relationship types or properties that are not provided.\\nSchema:\\n{schema}\\nNote: Do not include any explanations or apologies in your responses.\\nDo not respond to any questions that might ask anything else than for you to construct a Cypher statement.\\nDo not include any text except the generated Cypher statement.\\n\\nThe question is:\\n{question}'), llm=ChatGroq(client=<groq.resources.chat.completions.Completions object at 0x7e0c45b145e0>, async_client=<groq.resources.chat.completions.AsyncCompletions object at 0x7e0c45b151b0>, model_name='Gemma2-9b-It', groq_api_key=SecretStr('**********'))), qa_chain=LLMChain(prompt=PromptTemplate(input_variables=['context', 'question'], template=\"You are an assistant that helps to form nice and human understandable answers.\\nThe information part contains the provided information that you must use to construct an answer.\\nThe provided information is authoritative, you must never doubt it or try to use your internal knowledge to correct it.\\nMake the answer sound as a response to the question. Do not mention that you based the result on the given information.\\nHere is an example:\\n\\nQuestion: Which managers own Neo4j stocks?\\nContext:[manager:CTL LLC, manager:JANE STREET GROUP LLC]\\nHelpful Answer: CTL LLC, JANE STREET GROUP LLC owns Neo4j stocks.\\n\\nFollow this example when generating answers.\\nIf the provided information is empty, say that you don't know the answer.\\nInformation:\\n{context}\\n\\nQuestion: {question}\\nHelpful Answer:\"), llm=ChatGroq(client=<groq.resources.chat.completions.Completions object at 0x7e0c45b145e0>, async_client=<groq.resources.chat.completions.AsyncCompletions object at 0x7e0c45b151b0>, model_name='Gemma2-9b-It', groq_api_key=SecretStr('**********'))), graph_schema='Node properties are the following:\\nPerson {born: INTEGER, name: STRING},Movie {title: STRING, released: INTEGER, id: STRING, imdbRating: FLOAT},Genre {name: STRING}\\nRelationship properties are the following:\\n\\nThe relationships are the following:\\n(:Person)-[:ACTED_IN]->(:Movie),(:Person)-[:DIRECTED]->(:Movie),(:Movie)-[:IN_GENRE]->(:Genre)')"
      ]
     },
     "execution_count": 36,
     "metadata": {},
     "output_type": "execute_result"
    }
   ],
   "source": [
    "# Chain creation\n",
    "from langchain.chains import GraphCypherQAChain\n",
    "chain = GraphCypherQAChain.from_llm(\n",
    "    llm = llm, graph=graph\n",
    ")\n",
    "chain"
   ]
  },
  {
   "cell_type": "code",
   "execution_count": 43,
   "metadata": {
    "colab": {
     "base_uri": "https://localhost:8080/"
    },
    "executionInfo": {
     "elapsed": 1529,
     "status": "ok",
     "timestamp": 1722445039030,
     "user": {
      "displayName": "Manjunatha A",
      "userId": "04213958549566562790"
     },
     "user_tz": -330
    },
    "id": "OGs2bo-AtgAU",
    "outputId": "ea77ed85-dce7-4f44-8fc9-3fcb2327c7ee"
   },
   "outputs": [
    {
     "data": {
      "text/plain": [
       "{'query': 'Who was the director of the moview GoldenEye',\n",
       " 'result': 'Martin Campbell  \\n'}"
      ]
     },
     "execution_count": 43,
     "metadata": {},
     "output_type": "execute_result"
    }
   ],
   "source": [
    "response=chain.invoke({\"query\":\"Who was the director of the moview GoldenEye\"})\n",
    "\n",
    "response\n"
   ]
  },
  {
   "cell_type": "code",
   "execution_count": 44,
   "metadata": {
    "colab": {
     "base_uri": "https://localhost:8080/"
    },
    "executionInfo": {
     "elapsed": 1224,
     "status": "ok",
     "timestamp": 1722445070454,
     "user": {
      "displayName": "Manjunatha A",
      "userId": "04213958549566562790"
     },
     "user_tz": -330
    },
    "id": "BU5wE2qptnUi",
    "outputId": "8a0ca848-37c5-44bb-b7d7-5aed6c529b2f"
   },
   "outputs": [
    {
     "data": {
      "text/plain": [
       "{'query': 'tell me the genre of th movie GoldenEye',\n",
       " 'result': \"I don't know the answer. \\n\"}"
      ]
     },
     "execution_count": 44,
     "metadata": {},
     "output_type": "execute_result"
    }
   ],
   "source": [
    "response=chain.invoke({\"query\":\"tell me the genre of th movie GoldenEye\"})\n",
    "\n",
    "response"
   ]
  },
  {
   "cell_type": "code",
   "execution_count": 45,
   "metadata": {
    "colab": {
     "base_uri": "https://localhost:8080/"
    },
    "executionInfo": {
     "elapsed": 749,
     "status": "ok",
     "timestamp": 1722445078524,
     "user": {
      "displayName": "Manjunatha A",
      "userId": "04213958549566562790"
     },
     "user_tz": -330
    },
    "id": "2un2ZWvMt3xL",
    "outputId": "98befa46-b404-44f1-dd48-1787b9db6b59"
   },
   "outputs": [
    {
     "data": {
      "text/plain": [
       "{'query': 'Who was the director in movie Casino',\n",
       " 'result': 'Martin Scorsese  was the director in movie Casino. \\n'}"
      ]
     },
     "execution_count": 45,
     "metadata": {},
     "output_type": "execute_result"
    }
   ],
   "source": [
    "response=chain.invoke({\"query\":\"Who was the director in movie Casino\"})\n",
    "\n",
    "response"
   ]
  },
  {
   "cell_type": "code",
   "execution_count": 46,
   "metadata": {
    "colab": {
     "base_uri": "https://localhost:8080/"
    },
    "executionInfo": {
     "elapsed": 1216,
     "status": "ok",
     "timestamp": 1722445101148,
     "user": {
      "displayName": "Manjunatha A",
      "userId": "04213958549566562790"
     },
     "user_tz": -330
    },
    "id": "HEwEAIhiuheE",
    "outputId": "c9b8c198-ad91-4f45-afa6-6f6a32314b71"
   },
   "outputs": [
    {
     "data": {
      "text/plain": [
       "{'query': 'Which movie were released in 2008',\n",
       " 'result': \"I don't know the answer. \\n\"}"
      ]
     },
     "execution_count": 46,
     "metadata": {},
     "output_type": "execute_result"
    }
   ],
   "source": [
    "response=chain.invoke({\"query\":\"Which movie were released in 2008\"})\n",
    "\n",
    "response"
   ]
  },
  {
   "cell_type": "code",
   "execution_count": 47,
   "metadata": {
    "colab": {
     "base_uri": "https://localhost:8080/"
    },
    "executionInfo": {
     "elapsed": 1218,
     "status": "ok",
     "timestamp": 1722445108636,
     "user": {
      "displayName": "Manjunatha A",
      "userId": "04213958549566562790"
     },
     "user_tz": -330
    },
    "id": "R_1CTCvfunDp",
    "outputId": "07c4c043-037a-4ea1-d13b-b735397893fb"
   },
   "outputs": [
    {
     "data": {
      "text/plain": [
       "{'query': 'Give me the list of movie having imdb rating more than 8',\n",
       " 'result': \"I don't know the answer.  \\n\"}"
      ]
     },
     "execution_count": 47,
     "metadata": {},
     "output_type": "execute_result"
    }
   ],
   "source": [
    "response=chain.invoke({\"query\":\"Give me the list of movie having imdb rating more than 8\"})\n",
    "response"
   ]
  },
  {
   "cell_type": "code",
   "execution_count": null,
   "metadata": {
    "id": "e_W97-6ruwqh"
   },
   "outputs": [],
   "source": []
  }
 ],
 "metadata": {
  "accelerator": "GPU",
  "colab": {
   "authorship_tag": "ABX9TyOK/77zs6JLb6F3Zf6rgMWV",
   "gpuType": "T4",
   "provenance": []
  },
  "kernelspec": {
   "display_name": "Python 3 (ipykernel)",
   "language": "python",
   "name": "python3"
  },
  "language_info": {
   "codemirror_mode": {
    "name": "ipython",
    "version": 3
   },
   "file_extension": ".py",
   "mimetype": "text/x-python",
   "name": "python",
   "nbconvert_exporter": "python",
   "pygments_lexer": "ipython3",
   "version": "3.9.13"
  }
 },
 "nbformat": 4,
 "nbformat_minor": 1
}
