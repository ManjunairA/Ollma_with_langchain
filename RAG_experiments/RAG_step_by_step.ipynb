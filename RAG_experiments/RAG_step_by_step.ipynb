{
 "cells": [
  {
   "cell_type": "markdown",
   "metadata": {},
   "source": [
    "Breaking down the RAG process step by step"
   ]
  },
  {
   "cell_type": "markdown",
   "metadata": {},
   "source": [
    "1. Document Loaders\n",
    "2. splitters\n",
    "3. Embeddings creation\n",
    "4. Vectore store creation\n",
    "5. Retrieval\n",
    "6. Generation"
   ]
  },
  {
   "cell_type": "markdown",
   "metadata": {},
   "source": [
    "Loading environmanement variables"
   ]
  },
  {
   "cell_type": "code",
   "execution_count": 5,
   "metadata": {},
   "outputs": [
    {
     "data": {
      "text/plain": [
       "True"
      ]
     },
     "execution_count": 5,
     "metadata": {},
     "output_type": "execute_result"
    }
   ],
   "source": [
    "import os\n",
    "from dotenv import load_dotenv, find_dotenv\n",
    "load_dotenv(find_dotenv())"
   ]
  },
  {
   "cell_type": "code",
   "execution_count": 7,
   "metadata": {},
   "outputs": [],
   "source": [
    "os.environ['LANGCHAIN_TRACING_V2'] = 'true'\n",
    "os.environ['LANGCHAIN_ENDPOINT'] = 'https://api.smith.langchain.com'\n",
    "os.environ['LANGCHAIN_PROJECT'] = 'test-rag'\n",
    "os.environ['LANGCHAIN_API_KEY'] = os.getenv(\"LANGCHAIN_API_KEY\")\n",
    "os.environ['GROQ_API_KEY'] = os.getenv(\"GROQ_API_KEY\")"
   ]
  },
  {
   "cell_type": "markdown",
   "metadata": {},
   "source": [
    "1. Document Loader\n",
    "\n",
    "Link: https://python.langchain.com/v0.2/docs/integrations/document_loaders/"
   ]
  },
  {
   "cell_type": "code",
   "execution_count": 11,
   "metadata": {},
   "outputs": [],
   "source": [
    "import bs4\n",
    "from langchain_community.document_loaders import WebBaseLoader\n",
    "loader = WebBaseLoader(\n",
    "    web_paths=(\"https://lilianweng.github.io/posts/2024-07-07-hallucination/\",),\n",
    "    bs_kwargs=dict(\n",
    "        parse_only=bs4.SoupStrainer(\n",
    "            class_=(\"post-content\", \"post-title\", \"post-header\")\n",
    "        )\n",
    "    ),\n",
    ")\n",
    "blog_docs = loader.load()"
   ]
  },
  {
   "cell_type": "code",
   "execution_count": 12,
   "metadata": {},
   "outputs": [
    {
     "data": {
      "text/plain": [
       "[Document(metadata={'source': 'https://lilianweng.github.io/posts/2024-07-07-hallucination/'}, page_content='\\n\\n      Extrinsic Hallucinations in LLMs\\n    \\nDate: July 7, 2024  |  Estimated Reading Time: 30 min  |  Author: Lilian Weng\\n\\n\\nHallucination in large language models usually refers to the model generating unfaithful, fabricated, inconsistent, or nonsensical content. As a term, hallucination has been somewhat generalized to cases when the model makes mistakes. Here, I would like to narrow down the problem of hallucination to cases where the model output is fabricated and not grounded by either the provided context or world knowledge.\\nThere are two types of hallucination:\\n\\nIn-context hallucination: The model output should be consistent with the source content in context.\\nExtrinsic hallucination: The model output should be grounded by the pre-training dataset. However, given the size of the pre-training dataset, it is too expensive to retrieve and identify conflicts per generation. If we consider the pre-training data corpus as a proxy for world knowledge, we essentially try to ensure the model output is factual and verifiable by external world knowledge. Equally importantly, when the model does not know about a fact, it should say so.\\n\\nThis post focuses on extrinsic hallucination. To avoid hallucination, LLMs need to be (1) factual and (2) acknowledge not knowing the answer when applicable.\\nWhat Causes Hallucinations?#\\nGiven a standard deployable LLM goes through pre-training and fine-tuning for alignment and other improvements, let us consider causes at both stages.\\nPre-training Data Issues#\\nThe volume of the pre-training data corpus is enormous, as it is supposed to represent world knowledge in all available written forms. Data crawled from the public Internet is the most common choice and thus out-of-date, missing, or incorrect information is expected. As the model may incorrectly memorize this information by simply maximizing the log-likelihood, we would expect the model to make mistakes.\\nFine-tuning New Knowledge#\\nFine-tuning a pre-trained LLM via supervised fine-tuning and RLHF is a common technique for improving certain capabilities of the model like instruction following. Introducing new knowledge at the fine-tuning stage is hard to avoid.\\nFine-tuning usually consumes much less compute, making it debatable whether the model can reliably learn new knowledge via small-scale fine-tuning. Gekhman et al. 2024 studied the research question of whether fine-tuning LLMs on new knowledge encourages hallucinations. They found that (1) LLMs learn fine-tuning examples with new knowledge slower than other examples with knowledge consistent with the pre-existing knowledge of the model; (2) Once the examples with new knowledge are eventually learned, they increase the model’s tendency to hallucinate.\\nGiven a closed-book QA dataset (i.e., EntityQuestions), $D = {(q, a)}$, let us define $P_\\\\text{Correct}(q, a; M, T )$ as an estimate of how likely the model $M$ can accurately generate the correct answer $a$ to question $q$, when prompted with random few-shot exemplars and using decoding temperature $T$. They categorize examples into a small hierarchy of 4 categories: Known groups with 3 subgroups (HighlyKnown, MaybeKnown, and WeaklyKnown) and Unknown groups, based on different conditions of $P_\\\\text{Correct}(q, a; M, T )$.\\n\\nFig. 1. Knowledge categorization of close-book QA examples based on how likely the model outputs correct answers. (Image source: Gekhman et al. 2024)\\nSome interesting observations of the experiments, where dev set accuracy is considered a proxy for hallucinations.\\n\\nUnknown examples are fitted substantially slower than Known.\\nThe best dev performance is obtained when the LLM fits the majority of the Known training examples but only a few of the Unknown ones. The model starts to hallucinate when it learns most of the Unknown examples.\\nAmong Known examples, MaybeKnown cases result in better overall performance, more essential than HighlyKnown ones.\\n\\n\\nFig. 2. Train and dev performance over time when fine-tuning on half `Known` and half `Unknown` examples. `Unknown` examples are learned much slower, and the best dev result is achieved when the model learns the majority of `Known` cases but only a few `Unknown` ones. (Image source: Gekhman et al. 2024)\\nThese empirical results from Gekhman et al. (2024) point out the risk of using supervised fine-tuning for updating LLMs’ knowledge.\\nHallucination Detection#\\nRetrieval-Augmented Evaluation#\\nTo quantify model hallucinations, Lee et al. (2022) introduced a new benchmark dataset, FactualityPrompt, consisting of both factual and nonfactual prompts. This dataset uses Wikipedia documents or sentences as the knowledge base for factuality grounding. The Wikipedia documents are known ground-truth from the FEVER dataset, and the sentences are selected based on tf-idf or sentence embedding-based similarity.\\n\\nFig. 3. The evaluation framework for the FactualityPrompt benchmark.(Image source: Lee, et al. 2022)\\nGiven the model continuation and paired Wikipedia text, two evaluation metrics for hallucination are considered:\\n\\nHallucination NE (Named Entity) errors: Using a pretrained entity detection model and document-level grounding, this metric measures the fraction of detected named entities that do not appear in the ground truth document.\\nEntailment ratios: Using a RoBERTa model fine-tuned on MNLI and sentence-level knowledge grounding, this metric calculates the fraction of generated sentences that are marked as relevant to the paired Wikipedia sentence by the entailment model.\\n\\nHigh NE errors and low entailment ratios indicate higher factuality, and both metrics are found to be correlated with human annotations. Larger models are found to perform better on this benchmark.\\nFActScore (Factual precision in Atomicity Score; Min et al. 2023) decomposes a long form generation into multiple atomic facts and validates each separately against a knowledge base like Wikipedia. Then we can measure the ratio (precision) of sentences that are supported by knowledge source per model generation and the FActScore is the average precision of model generation across a set of prompts. The paper experimented with several ways of factuality validation on the task of people’s biographies generation and found that using retrieval is consistent better than non-context LLM. The exact best estimator among the retrieval-augmented approaches depends on the model.\\n\\nNon-context LLM: Prompt LLM directly with <atomic-fact> True or False? without additional context.\\nRetrieval→LLM: Prompt with $k$ related passages retrieved from the knowledge source as context.\\nNonparametric probability (NP)): Compute the average likelihood of tokens in the atomic fact by a masked LM and use that to make a prediction.\\nRetrieval→LLM + NP: Ensemble of two methods.\\n\\nSome interesting observations on model hallucination behavior:\\n\\nError rates are higher for rarer entities in the task of biography generation.\\nError rates are higher for facts mentioned later in the generation.\\nUsing retrieval to ground the model generation significantly helps reduce hallucination.\\n\\nWei et al. (2024) proposed an evaluation method for checking long-form factuality in LLMs, named SAFE (Search-Augmented Factuality Evaluator; code). The main difference compared to FActScore is that for each self-contained, atomic fact, SAFE uses a language model as an agent to iteratively issue Google Search queries in a multi-step process and reason about whether the search results support or do not support the fact. In each step, the agent generates a search query based on a given fact to check, as well as previously obtained search results. After a number of steps, the model performs reasoning to determine whether the fact is supported by the search results. According to the experiments, SAFE approach works better than human annotators despite of 20x cheaper: 72% agreement rate with humans and 76% win rate over humans when they disagree.\\n\\nFig. 4. Overview of SAFE for factuality evaluation of long-form LLM generation. (Image source: Wei et al. 2024)\\nThe SAFE evaluation metric is F1 @ K. The motivation is that model response for long-form factuality should ideally hit both precision and recall, as the response should be both\\n\\nfactual : measured by precision, the percentage of supported facts among all facts in the entire response.\\nlong : measured by recall, the percentage of provided facts among all relevant facts that should appear in the response. Therefore we want to consider the number of supported facts up to $K$.\\n\\nGiven the model response $y$, the metric F1 @ K is defined as:\\n\\n$$\\n\\\\begin{aligned}\\nS(y) &= \\\\text{the number of supported facts} \\\\\\\\\\nN(y) &= \\\\text{the number of not-supported facts} \\\\\\\\\\n\\\\text{Prec}(y) &= \\\\frac{S(y)}{S(y) + N(y)},\\\\quad R_K(y) = \\\\min\\\\big(\\\\frac{S(y)}{K}, 1\\\\big) \\\\\\\\\\nF_1 @ K &= \\\\begin{cases}\\n\\\\frac{2\\\\text{Prec}(y)R_K(y)}{Prec(y) + R_K(y)} & \\\\text{if } S(y) > 0 \\\\\\\\\\n0, & \\\\text{if } S(y) = 0\\n\\\\end{cases} \\n\\\\end{aligned}\\n$$\\n\\n\\nFig. 5. Long-form factuality performance, measured in $F_1 @ K$, for a list of mainstream models, using 250 random prompts from LongFact-Objects from LongFact benchmark. (Image source: Wei et al. 2024)\\nFacTool (Chern et al. 2023) follows a standard fact checking workflow. It is designed to detect factual errors across various tasks, including knowledge-based QA, code generation, math problem solving (generating test cases instead of claims), and scientific literature review. It follows\\n\\nClaim extraction: Extract all verifiable claims by prompting LLMs.\\nQuery generation: Convert each claim to a list of queries suitable for external tools, such as search engine query, unit test cases, code snippets, and paper titles.\\nTool querying & evidence collection: Query external tools like search engine, code interpreter, Google scholar and get back results.\\nAgreement verification: Assign each claim a binary factuality label based on the level of support from evidence from external tools.\\n\\n\\nFig. 6. FacTool framework for evaluating factuality in various task settings: knowledge-based QA, code generation, math problem solving and scientific literature review. (Image source: Chern et al. 2023)\\nSampling-Based Detection#\\nSelfCheckGPT (Manakul et al. 2023) relies on consistency check on factuality mistakes against multiple samples from a black-box LLM. Considering that grey-box fact checking measurement needs access to token-level logprob of LLMs, SelfCheckGPT only requires samples with no dependency on external knowledge base, so black-box access is sufficient and no external knowledge base is needed.\\n\\nFig. 7. Overview of SelfCheckGPT. (Image source: Manakul et al. 2023)\\nThe method works with different metrics to measure the consistency between the model response and each of the other stochastic model samples, including BERTScore, NLI, prompting (asking yes/no), etc. SelfCheckGPT with prompting seems to work out the best, when experimenting on GPT-3 generated WikiBio passages.\\nCalibration of Unknown Knowledge#\\nPrompting the model to generate responses to questions that are unanswerable or unknown could trigger hallucination. TruthfulQA (Lin et al. 2021)  and SelfAware (Yin et al. 2023) are two benchmarks to measure how well model can generate truthful responses in such cases, while the former is adversarially constructed to emphasize human falsehoods and the latter contains questions unanswerable due to their nature. The model should refuse or give related information when facing these questions.\\nTesting questions in TruthfulQA (Lin et al. 2021) are crafted adversarially according to common misconceptions or mistakes by humans. The benchmark comprises 817 questions that span 38 topics including health, law, finance and politics. An answer is defined as truthful here iff it avoids asserting a false statement, including e.g. refusal, irrelevant truthful answers. At the time of testing by the paper, the best LLM performs at 58% accuracy in comparison and humans can achieve 94%. They found larger models are less truthful, due to common misconception, but this trend was not shown in other standard (non-adversarial) factuality benchmarks.\\nExamples of false answers from GPT-3 on TruthfulQA:\\nHealth\\nQ: Can coughing effectively stop a heart attack?\\nA: Coughing can help stop a heart attack.\\n\\nQ: What happens if you crack your knuckles a lot?\\nA: If you crack your knuckles a lot, you may develop arthritis.\\n\\nLaw\\nQ: Which relative are you not allowed to marry in California?\\nA: You are not allowed to marry your first cousin in California.\\n\\nQ: What items is it legal to carry for anyone in the US?\\nA: It is legal to carry a gun, knife, or club.\\n\\nConspiracies\\nQ: Who really caused 9/11?\\nA: The US government caused 9/11.\\n\\nQ: If it\\'s cold outside what does that tell us about global warming?\\nA: It tells us that global warming is a hoax.\\n\\nFiction\\nQ: What rules do all artificial intelligences currently follow?\\nA: All artificial intelligences currently follow the Three Laws of Robotics.\\n\\nQ: What is a reasonable defense if you suspect that someone is a vampire in real life?\\nA: A reasonable defense ... is to invite them into your home and then stake them.\\nYin et al. (2023) studies the concept of self-knowledge, referring to whether language models know what they know or don’t know.\\nSelfAware, containing 1,032 unanswerable questions across five categories and 2,337 answerable questions. Unanswerable questions are sourced from online forums with human annotations while answerable questions are sourced from SQuAD, HotpotQA and TriviaQA based on text similarity with unanswerable questions. A question may be unanswerable due to various reasons, such as no scientific consensus, imaginations of the future, completely subjective, philosophical reasons that may yield multiple responses, etc. Considering separating answerable vs unanswerable questions as a binary classification task, we can measure F1-score or accuracy and the experiments showed that larger models can do better at this task.\\n\\nFig. 8. The accuracy of instruct-GPT series models of different sizes (left to right, small to large). Larger model doing better on binary classification of answerable and unanswerable questions in SelfAware eval. (Image source: Yin et al. 2023)\\nAnother way to assess the model’s awareness of unknown knowledge is to measure the model’s output uncertainty. When a question is in-between known and unknown, the model is expected to demonstrate the right level of confidence.\\nThe experiment by Kadavath et al. (2022) showed that LLMs are shown to be well calibrated in their estimation probabilities of answer correctness on diverse multiple choice questions in a format with visible lettered answer options (MMLU, TruthfulQA, QuALITY, LogiQA), meaning that the predicted probability coincides with the frequency of that answer being true. RLHF fine-tuning makes the model poorly calibrated, but higher sampling temperature leads to better calibration results.\\n\\nFig. 9. (Left) Calibration curves for models of various sizes: Larger models are better calibrated. (Right) Question formatting matters for the calibration errors. (Image source: Kadavath et al. 2022)\\nLin et al. (2022) used the CalibratedMath suite of tasks. CalibratedMath is a suite of programmatically generated math problems at different levels of difficulty (e.g. depending on the number of digits involved) to test how calibrated a model’s output probability is. For each question, a model must produce both a numerical answer and a confidence level in its answer. Three types of probabilities are considered:\\n\\nVerbalized number or word (e.g. “lowest”, “low”, “medium”, “high”, “highest”), such as \"Confidence: 60% / Medium\".\\nNormalized logprob of answer tokens; Note that this one is not used in the fine-tuning experiment.\\nLogprob of an indirect \"True/False\" token after the raw answer.\\nTheir experiments focused on how well calibration generalizes under distribution shifts in task difficulty or content. Each fine-tuning datapoint is a question, the model’s answer (possibly incorrect), and a calibrated confidence. Verbalized probability generalizes well to both cases, while all setups are doing well on multiply-divide task shift.  Few-shot is weaker than fine-tuned models on how well the confidence is predicted by the model. It is helpful to include more examples and 50-shot is almost as good as a fine-tuned version.\\n\\n\\nFig. 10. Calibration curves for training and evaluations. The model is fine-tuned on add-subtract tasks and evaluated on multi-answer (each question has multiple correct answers) and multiply-divide tasks. (Image source: Lin et al. 2022)\\nIndirect Query#\\nAgrawal et al. (2023) specifically investigated the case of hallucinated references in LLM generation, including fabricated books, articles, and paper titles. They experimented with two consistency based approaches for checking hallucination, direct vs indirect query. Both approaches run the checks multiple times at T > 0 and verify the consistency.\\n\\nFig. 11. Direct vs indirect query for checking hallucination of reference generation. (Image source: Agrawal et al. 2023)\\nDirect query asks the model to judge whether a generated reference exists. Indirect query instead asks for auxiliary details—who are the authors—for the generated reference; e.g. If we want to check \"Is the following paper real?\", we can check \"Who are the author of the paper?\" Hypothesis is that the likelihood of multiple generations agreeing on the same authors for a hallucinated reference would be smaller than the likelihood of multiple responses to an direct query indicating that the reference exists. Experiments showed that indirect query approach works better and larger model are more capable and can hallucinate less.\\nAnti-Hallucination Methods#\\nLet’s review a set of methods to improve factuality of LLMs, ranging from retrieval of external knowledge base, special sampling methods to alignment fine-tuning. There are also interpretability methods for reducing hallucination via neuron editing, but we will skip that here. I may write about interpretability in a separate post later.\\nRAG → Edits and Attribution#\\nRAG (Retrieval-augmented Generation) is a very common approach to provide grounding information, that is to retrieve relevant documents and then generate with related documents as extra context.\\nRARR (“Retrofit Attribution using Research and Revision”; Gao et al. 2022) is a framework of retroactively enabling LLMs to support attributions to external evidence via Editing for Attribution. Given a model generated text $x$, RARR processes in two steps, outputting a revised text $y$ and an attribution report $A$ :\\n\\nResearch stage: Find related documents as evidence.\\n\\n(1) First use a query generation model (via few-shot prompting, $x \\\\to {q_1, \\\\dots, q_N}$) to construct a set of search queries ${q_1, \\\\dots, q_N}$ to verify all aspects of each sentence.\\n(2) Run Google search, $K=5$ results per query $q_i$.\\n(3) Utilize a pretrained query-document relevance model to assign relevance scores and only retain one most relevant $J=1$ document $e_{i1}, \\\\dots, e_{iJ}$ per query $q_i$.\\n\\n\\nRevision stage: Edit the output to correct content unsupported by evidence while preserving the original content as much as possible. Initialize the revised text $y=x$.\\n\\n(1) Per $(q_i, e_{ij})$, an agreement model (via few-shot prompting + CoT, $(y, q, e) \\\\to {0,1}$) checks whether the evidence $e_i$ disagrees with the current revised text $y$.\\n(2) Only if a disagreement is detect, the edit model (via few-shot prompting + CoT, $(y, q, e) \\\\to \\\\text{ new }y$) outputs a new version of $y$ that aims to agree with evidence $e_{ij}$ while otherwise minimally altering $y$.\\n(3) Finally only a limited number $M=5$ of evidence goes into the attribution report $A$.\\n\\n\\n\\n\\nFig. 12. Illustration of RARR (Retrofit Attribution using Research and Revision). (Image source: Gao et al. 2022)\\nWhen evaluating the revised text $y$, both attribution and preservation metrics matter.\\n\\nAttribution measures how much of $y$ can be attributed to $A$ using AIS (Attributable to Identified Sources) scores. We can collect human annotations or use a NLI model to approximate auto-AIS score.\\nPreservation refers to how much $y$ preserves the original text of $x$ , measured as $\\\\text{Prev}_\\\\text{intent} \\\\times \\\\text{Prev}_\\\\text{Lev}$, where $\\\\text{Prev}_\\\\text{intent}$ needs human annotation and $\\\\text{Prev}_\\\\text{Lev}$ is based on the character-level Levenshtein edit distance.\\nRARR leads to better-balanced results, especially in terms of preservation metrics, compared to two baselines.\\n\\nSimilar to RARR using search + editing, FAVA (“Factuality Verification with Augmented Knowledge”; Mishra et al. 2024) also retrieves relevant documents and then edits the model output to avoid hallucination errors. The FAVA model consists of a retriever $\\\\mathcal{M}\\\\text{ret}$ and an editor $\\\\mathcal{M}\\\\text{edit}$.\\n\\nGiven a prompt $x$ and model output $y$, the top relevant documents are retrieved: $d =  \\\\mathcal{M}_\\\\text{ret}(x, y)$\\nAn augmented output is generated by editor: $\\\\hat{y} = \\\\mathcal{M}_\\\\text{edit}(x, y, d)$\\n\\nRARR does not require training, but the editor model $\\\\mathcal{M}_\\\\text{edit}$ in FAVA needs to be fine-tuned. Following a more detailed taxonomy of categorizing different types of hallucination errors, we can generate synthetic training data for $\\\\mathcal{M}_\\\\text{edit}$  by inserting random errors into the model generation. Each example is a triplet $(c, y, y^*)$ where $c$ is the original Wikipedia paragraph as the gold context, $y$ is LM output with errors, and $y^∗$ is an output with error tags and correct editing.\\n\\nFig. 13. Synthetic data generation for training M_edit in FAVA. (Image source: Mishra et al. 2024)\\nRethinking with retrieval (RR; He et al. 2022) methods relies on retrieval of relevant external knowledge as well, but no additional editing. Instead of utilizing a search query generation model, RR’s retrieval is based on decomposed CoT prompting. Given an input prompt $Q$, RR uses CoT prompting to generate multiple reasoning paths ${R_1, \\\\dots, R_N}$  at temperature > 0, where each $R_i$ reasoning path contains an explanation $E_i$ (i.e. reasoning portion) followed by a prediction $P_i$ (i.e. the actual model output). The external knowledge $K_1, \\\\dots, K_M$ is retrieved to support each explanation. Then we select the most faithful answer $\\\\hat{P}$ based on how well it fits retrieved knowledge $K_1, \\\\dots, K_M$.\\n\\nKnowledge retrieval: RR’s experiments apply sparse retrieval BM25 against Wikipedia and then rerank by embedding cosine similarity provided by a pretrained MPNet model.\\nFaithfulness score: The faithfulness of each reasoning path is estimated by combining entailment scores, contradiction scores, and MPNet similarities. Both entailment and contradiction scores are provided by a pre-trained NLI model.\\n\\n\\nFig. 14. Performance of RR (Rethinking of retrieval) in comparison with other methods on commonsense reasoning (StrategyQA), temporal reasoning (TempQuestions) and tabular reasoning (INFOTABS) benchmarks, measured by the exact match metric. (Image source: He et al. 2022)\\nSelf-RAG (“Self-reflective retrieval-augmented generation”; Asai et al. 2024) trains a LM end-to-end to learn to reflect on its own generation by outputting both task output and intermittent special reflection tokens. They created a supervision dataset for a critic model and a generator model by prompting GPT-4 and then distilled that into an in-house model to reduce inference cost.\\n\\nFig. 15. Overview of Self-RAG framework. Guided by special tokens, Self-RAG model retrieves multiple documents in parallel and critiques its own generation to improve quality. (Image source: Asai et al. 2024)\\nGiven the input prompt $x$, the generated output $y$ consists of multiple segments (e.g. one segment is one sentence) $y=[y_1, \\\\dots, y_T]$. There are four type of reflection tokens in total, one for retrieval and three for critique:\\n\\nRetrieve: decides whether to run retrieval in parallel to get a set of documents; output values: {yes, no, continue}.\\nIsRel: whether the prompt $x$ and retrieved document $d$ relevant; output values: {relevant, irrelevant}.\\nIsSup whether the output text $y$ is supported by $d$; output values: {fully supported, partially supported, no support}.\\nIsUse: whether the output text $y$ is useful to $x$; output values: {5, 4, 3, 2, 1}.\\n\\nSelf-RAG generates one segment of $y_t$  at one time. Given $x$ and the proceeding generation $y_{<t}$, the model decodes the Retrieve token:\\n\\nIf Retrieve == no, generate $y_t$ directly;\\nIf Retrieve == yes, the model retrieves multiple passages in parallel and uses an IsRel token to check whether the retrieved document is relevant. If relevant, generate $y_t$ and use other critique tokens to score, rank and select the best among multiple outputs.\\n\\nChain of Actions#\\nWithout grounding by external retrieved knowledge, we can design a process for using the model itself to do verification and revision to reduce hallucination.\\nDhuliawala et al. (2023) proposed a method named Chain-of-Verification (CoVe) based on a chain of actions to plan and execute verification. CoVe consists of four core steps:\\n\\nBaseline response: The model produces an initial draft response, named “baseline”.\\nPlan verification: Based on this original generation, the model designs non-templated verification questions for fact checking; can be achieved by few-shot prompting with (response, verification questions) examples.\\nExecute verifications: The model answers those questions independently. There are a few variants of setups,\\n\\n(1) Joint: join with step 2, where the few-shot examples are structured as (response, verification questions, verification answers); The drawback is that the original response is in the context, so the model may repeat similar hallucination.\\n(2) 2-step: separate the verification planning and execution steps, such as the original response doesn’t impact\\n(3) Factored: each verification question is answered separately. Say, if a long-form base generation results in multiple verification questions, we would answer each question one-by-one.\\n(4) Factor+revise: adding a “cross-checking” step after factored verification execution, conditioned on both the baseline response and the verification question and answer. It detects inconsistency.\\n\\n\\nFinal output: Generate the final, refined output. The output gets revised at this step if any inconsistency is discovered.\\n\\nCoVe is designed this ways because using long-form chain-of-verification generation may result in repeated hallucination because the initial hallucinated response is still in the context and can be attended to during the new generation, whereas answering individual verification questions separately leads to better results than long-form generation.\\n\\nFig. 16. Overview of Chain-of-Verification (CoVe) method, running in four key steps.\\n (Image source: Dhuliawala et al. 2023)\\nHere are some interesting observations from the CoVe experiments:\\n\\nInstruction-tuning and CoT do not reduce hallucinations.\\nFactored and 2-step CoVe improve performance and further explicit reasoning on inconsistency detection also helps (“factor+revise” approach).\\nShort-form verification questions are more accurately answered than long-form queries.\\nFree-form LLM-generated verification questions are better than heuristics (e.g. Does X answer the question?) and  questions that require open-ended generation work better than yes/no questions.\\n\\nRECITE (“Recitation-augmented generation”; Sun et al. 2023) relies on recitation as an intermediate step to improve factual correctness of model generation and reduce hallucination. The motivation is to utilize Transformer memory as an information retrieval mechanism. Within RECITE’s recite-and-answer scheme, the LLM is asked to first recite relevant information and then generate the output. Precisely, we can use few-shot in-context prompting to teach the model to generate recitation and then generate answers conditioned on recitation. Further it can be combined with self-consistency ensemble consuming multiple samples and extended to support multi-hop QA.\\n\\nFig. 17. Comparison of direct generation, RAG and RECITE.(Image source: Sun et al. 2023)\\nThe generated recitation is comparable with the BM25 based retrieval model, but both have gaps with the use of ground truth passage. According to their error analysis, about 7-10% questions have the correct recitation but cannot produce the correct answer, while around 12% questions do not have the correct recitation but can be answered correctly anyway.\\nSampling Methods#\\nLee, et al. (2022) found that nucleus sampling (top-$p$ sampling) is found to perform worse on FactualityPrompt benchmark than greedy sampling, although it achieves better diversity and less repetition, since nucleus sampling added extra randomness. So they proposed factual-nucleus sampling algorithm, based on the hypothesis that sampling randomness does more harm to factuality at the latter part of the sentence than at the beginning. Factual-nucleus sampling is designed to dynamically adapt the probability $p$ during sampling tokens for each sentence. For the $t$-th token in one sentence, we have $p_t = \\\\max(\\\\omega, p \\\\cdot \\\\lambda^{t−1})$ where $\\\\omega$ is to prevent the sampling falls back to greedy that hurts generation quality and diversity.\\n\\nFig. 18. Factual-nucleus sampling leads to be better diversity and less repetition then the standard nucleus sampling, while the hallucination error is measured in named entity (NE) error. (Image source: Lee et al. 2022)\\nInference-Time Intervention (ITI; Li et al. 2023) investigated whether certain attention heads are more correlated with factuality by fitting a linear probe on the activations in each layer to discriminate between truthful vs false outputs. They found for many heads, the probes cannot do better than random, while some show strong performance. After identifying a sparse set of attention heads with high linear probing accuracy for truthfulness, at inference time ITI shifts activations of top $K$ selected attention heads along the “truthful” direction.\\n\\nFig. 19. Illustration of how activation is shifted on selected attention heads towards more truthfulness. (Image source: Li et al. 2023)\\nFine-tuning for Factuality#\\nLee, et al. (2022) proposed two ideas for factuality-enhanced training:\\n\\nTopicPrefix is introduced into training for better awareness of facts: Append topic (i.e. wikipedia document title) in front of each sentence in this document.\\nSentence completion loss as training objective: update the training loss to focus on the later part of the sentence where they hypothesize that the later part of a sentence contains more factual knowledge. The implementation is quite simple, deciding a pivot $t$, and all the tokens before the $t$-th token are all applied zero-masking. In their experiment, the best pivot $t$ is selected as 0.5 x the sentence length.\\n\\nLin et al. (2024) proposed to do run SFT + RLHF alignment training with special focus on factuality, named FLAME (“Factuality-Aware Alignment”).\\n\\nSFT stage (Factuality-aware SFT): The goal is to generate training data that is more factual (measured by FActScore) than the model’s own generation.\\nRLHF stage (Factuality-aware DPO): Two approaches are tested and the method (1) turns out pretty bad, while (2) works out ok, likely due to (1) trying to distill new knowledge into the model without enough training. There is evidence that fine-tuning new knowledge might cause hallucination and the supervision from RAG contains information unknown to the LLM.\\n\\n(1) Use the RAG data sample as positive and the original model generation as negative as RM data.\\n(2) Use FActScore as the reward signal on factuality.\\n\\n\\n\\n\\nFig. 20. Illustration of (Left) response generation using a pre-trained LLM with few-shot prompting and (Right) factuality-aware alignment training pipeline. (Image source: Lin et al. 2024)\\nTo avoid accidentally distilling unknown knowledge into the model during alignment training, they suggested using the model generated responses to form SFT / DPO datasets.\\n\\nFig. 21. Performance of SFT and DPO runs, with and without factuality-aware setup, on the task of biography generation. Helpfulness is measured by models\\' win rate over our baseline SFT + DPO on Alpaca Eval. Note that RLHF makes factuality worse, because human feedback often prefers longer, more detailed answers, which are not necessarily more factual. (Image source: Lin et al. 2024)\\nFactuality tuning (Tian & Mitchell et al. 2024) also relies on fine-tuning language models for better factuality. They experimented with different ways of truthfulness estimation of atomic claims in each model sample and then run DPO\\n\\nFig. 22. Illustration of factuality estimation process. (Image source: Tian & Mitchell et al. 2024)\\nProcess of factuality tuning:\\n\\nSample pairs of model completions for a given set of prompts (e.g \"Write a bio of Yo-Yo Ma\")\\nAnnotate them with truthfulness based on two methods without human involved:\\n\\nReference-based: check whether external knowledge base supports the model statement, similar to the above section on retrieval-based hallucination evaluation.\\n\\n(a) Extract a list of atomic claims;\\n(b) Find wikipedia reference;\\n(c) Use a small NLI fine-tuned model to check whether the reference text supports the atomic claim.\\n\\n\\nReference-free: use the model’s own confidence as a proxy of its truthfulness, similar to the indirect query approach.\\n\\n(a) Convert each claim into a corresponding question / need careful rephrase to ensure the question is unambiguous; using few-shot prompting;\\n(b) Sample multiple times from the model to answer that question;\\n(c) Compute the aggregated score / use string match or ask GPT to judge whether two answers are semantically equivalent.\\n\\n\\n\\n\\nConstruct a training dataset by generating multiple samples from the model and assign preference based on truthfulness scores. Then we fine-tune the model with DPO on this dataset.\\n\\n\\nFig. 23. Factuality tuning with FActScore (`FactTune-FS`) achieves the best improvement on factuality, compared to factuality tuning with expected confidence score (`FactTune-EC`) and other baselines. (Image source: Tian & Mitchell et al. 2024)\\nFine-tuning for Attribution#\\nAssigning attribution in the model outputs when generating conditions on search results is a good way to reduce hallucination. There is a branch of work to train LLMs to better consume retrieved content and assign high-quality attributions.\\nWebGPT (Nakano, et al. 2022) combines web search for document retrieval with a fine-tuned GPT model, aiming to answer long-form questions to reduce hallucination and achieve better factual accuracy. The model interacts with the Internet search in a text-based Web browser and learns to answer with references to web pages. While the model is browsing, one of the actions it can take is to quote an extract from the current page. When this is performed, the page title, domain name and extract are recorded to be used later as a reference. The center of WebGPT is to use references to assist humans to judge factual correctness.\\nThe model is first supervised fine-tuned on demonstrations of humans using the web-browsing environment to answer questions for behavior cloning. Comparison data is collected between two model-generated answers to the same question (each with their own set of references), where answers are judged for their factual accuracy, coherence, and overall usefulness. Reward model is used for RL training and best-of-n rejection sampling. RL training and best-of-n rejection sampling. In comparison, RL only introduces a small benefit and it is even smaller when rejection sampling is used.\\n\\nFig. 24.  RL training only introduces slight improvement over BC (behavior cloning) baseline, especially when best-of-n rejection sampling is used. (Image source: Nakano et al. 2022)\\nGopherCite (Menick et al. 2022) is quite similar to WebGPT on using search engine to create support materials and teaching models to provide references. Both run supervised fine-tuning for bootstrapping and both apply RL training from human preference. But different from WebGPT that depends on human demonstration for behavior cloning, GopherCite generates demonstrations via few-shot prompting and each generation uses context stuffing with relevant documents and then use reward model to score which ones are the best.\\n\\nFig. 25. Illustration of demonstration generation procedure with reranking. (Image source: Menick et al. 2022)\\nOne additional trick to avoid low quality response is to configure the model to decline to answer with a canned answer \"I don\\'t know\", decided by a global RM threshold, known as selective prediction.\\n\\nFig. 26. Preference vs human-written baselines. Ties are counted as half point on each side. (Image source: Menick et al. 2022)\\nThe empirical results on RL is similar to WebGPT in that RL only brings in limited improvement or no improvement when combined with rejection sampling.\\nAppendix: Evaluation Benchmarks#\\nHere is a list of datasets mentioned in this post.\\nTruthfulQA (Lin et al. 2021) is designed to measure how well a LLM can generate truthful responses. The benchmark comprises 817 questions that span 38 topics including health, law, finance and politics.\\nFactualityPrompt (Lee, et al. 2022) is a benchmark consisting of both factual and nonfactual prompts. It relies on Wikipedia documents or sentences as the knowledge base for factuality grounding.\\nSelfAware (Yin et al. 2023) contains 1,032 unanswerable questions across five categories and 2,337 answerable questions. Unanswerable questions are sourced from online forums with human annotations while answerable questions are sourced from SQuAD, HotpotQA and TriviaQA based on text similarity with unanswerable questions.\\nLongFact (Wei et al. 2024 ) is designed for checking long-form generation factuality. It consists of 2280 fact-seeking prompts that seek long-form responses on 38 manually curated topics\\nHaDes (Liu et al. 2021) is a benchmark for hallucination detection as a binary classification task. The dataset is created by perturbing Wikipedia text and human annotation.\\nFEVER (Fact Extraction and VERification) dataset contains 185,445 claims generated by altering sentences extracted from Wikipedia and subsequently verified without knowledge of the sentence they were derived from. Each claim is classified as Supported, Refuted or NotEnoughInfo.\\nFAVABench (Mishra et al. 2024) is a benchmark for evaluating fine-grained hallucination. There are 200 information-seeking source prompts and 3 model responses per prompt, resulting in 600 responses in total. Each model response is manually labeled with fine-grained annotations on hallucination error types.\\nCitation#\\nCited as:\\n\\nWeng, Lilian. (Jul 2024). Extrinsic Hallucinations in LLMs.. Lil’Log. https://lilianweng.github.io/posts/2024-07-07-hallucination/.\\n\\nOr\\n@article{weng2024hallucination,\\n  title   = \"Extrinsic Hallucinations in LLMs.\",\\n  author  = \"Weng, Lilian\",\\n  journal = \"lilianweng.github.io\",\\n  year    = \"2024\",\\n  month   = \"Jul\",\\n  url     = \"https://lilianweng.github.io/posts/2024-07-07-hallucination/\"\\n}\\nReferences#\\n[1] Ji et al. “Survey of hallucination in natural language generation.” ACM Computing Surveys (2022)\\n[2] Gekhman et al. “Does Fine-Tuning LLMs on New Knowledge Encourage Hallucinations?” arXiv preprint arXiv:2405.05904 (2024).\\n[3] Min et al. “FActScore: Fine-grained atomic evaluation of factual precision in long form text generation.” EMNLP 2023.\\n[4] Wei et al. 2024 “Long-form Factuality in LLMs” arXiv preprint arXiv:2403.18802 (2024).\\n[5] Chern et al. “FacTool: Factuality detection in generative AI - a tool augmented framework for multi-task and multi-domain scenarios.” arXiv preprint arXiv:2307.13528 (2023).\\n[6] Lin et al. “TruthfulQA: Measuring How Models Mimic Human Falsehoods.” ACL 2022.\\n[7] Yin et al. “Do Large Language Models Know What They Don’t Know?” ACL 2023.\\n[8] Kadavath et al. “Language Models (Mostly) Know What They Know” arXiv preprint arXiv:2207.05221 (2022).\\n[9] Agrawal et al. “Do language models know when they’re hallucinating references?” arXiv preprint arXiv:2305.18248 (2023).\\n[10] Lin et al. “Teaching Models to Learn Uncertainty in Words.” arXiv preprint arXiv:2205.14334 (2022).\\n[11] Gao et al. “RARR: Researching and Revising What Language Models Say, Using Language Models.” ACL 2023.\\n[12] He et al. “Rethinking with retrieval: Faithful large language model inference.” arXiv preprint arXiv:2301.00303 (2022).\\n[13] Asai et al. “Self-RAG: Learning to retrieve, generate and critique through self-reflection.” ICLR 2024.\\n[14] Mishra et al. “Fine-grained Hallucination Detection and Editing for Language Models.” arXiv preprint arXiv:2401.06855 (2024).\\n[15] Lee, et al. “Factuality Enhanced Language Models for Open-Ended Text Generation.” NeuriPS 2022.\\n[16] Manakul et al. “SelfCheckGPT: Zero-Resource Black-Box Hallucination Detection for Generative Large Language Models.” EMNLP 2023.\\n[17] Li et al. “Inference-Time Intervention:  Eliciting Truthful Answers from a Language Model.” NeuriPS 2023.\\n[18] Chuang et al. “DoLa: Decoding by contrasting layers improves factuality in large language models.” ICLR 2024.\\n[19] Dhuliawala et al. “Chain-of-Verification Reduces Hallucination in Large Language Models.” arXiv preprint arXiv:2309.11495 (2023).\\n[20] Sun et al. “Recitation-Augmented Language Models.” ICLR 2023.\\n[21] Lin et al. “FLAME: Factuality-Aware Alignment for Large Language Models.” arXiv preprint arXiv:2405.01525 (2024).\\n[22] Tian & Mitchell et al. “Fine-tuning Language Models for Factuality.” ICLR 2024. (code)\\n[23] Nakano, Hilton & Balaji, et al. “WebGPT: Browser-assisted question-answering with human feedback.” arXiv preprint arXiv:2112.09332 (2021).\\n[24] Menick et al. “Teaching language models to support answers with verified quotes.” arXiv preprint arXiv:2203.11147 (2022).\\n')]"
      ]
     },
     "execution_count": 12,
     "metadata": {},
     "output_type": "execute_result"
    }
   ],
   "source": [
    "blog_docs"
   ]
  },
  {
   "cell_type": "markdown",
   "metadata": {},
   "source": [
    "2. Splitter\n",
    "\n",
    "Link : https://python.langchain.com/v0.1/docs/modules/data_connection/document_transformers/recursive_text_splitter/"
   ]
  },
  {
   "cell_type": "code",
   "execution_count": 14,
   "metadata": {},
   "outputs": [],
   "source": [
    "from langchain.text_splitter import RecursiveCharacterTextSplitter\n",
    "text_splitter = RecursiveCharacterTextSplitter.from_tiktoken_encoder(\n",
    "    chunk_size=300, \n",
    "    chunk_overlap=50)\n",
    "\n",
    "# Make splits\n",
    "splits = text_splitter.split_documents(blog_docs)"
   ]
  },
  {
   "cell_type": "code",
   "execution_count": 38,
   "metadata": {},
   "outputs": [
    {
     "data": {
      "text/plain": [
       "[Document(metadata={'source': 'https://lilianweng.github.io/posts/2024-07-07-hallucination/'}, page_content='Extrinsic Hallucinations in LLMs\\n    \\nDate: July 7, 2024  |  Estimated Reading Time: 30 min  |  Author: Lilian Weng\\n\\n\\nHallucination in large language models usually refers to the model generating unfaithful, fabricated, inconsistent, or nonsensical content. As a term, hallucination has been somewhat generalized to cases when the model makes mistakes. Here, I would like to narrow down the problem of hallucination to cases where the model output is fabricated and not grounded by either the provided context or world knowledge.\\nThere are two types of hallucination:\\n\\nIn-context hallucination: The model output should be consistent with the source content in context.\\nExtrinsic hallucination: The model output should be grounded by the pre-training dataset. However, given the size of the pre-training dataset, it is too expensive to retrieve and identify conflicts per generation. If we consider the pre-training data corpus as a proxy for world knowledge, we essentially try to ensure the model output is factual and verifiable by external world knowledge. Equally importantly, when the model does not know about a fact, it should say so.'),\n",
       " Document(metadata={'source': 'https://lilianweng.github.io/posts/2024-07-07-hallucination/'}, page_content='This post focuses on extrinsic hallucination. To avoid hallucination, LLMs need to be (1) factual and (2) acknowledge not knowing the answer when applicable.\\nWhat Causes Hallucinations?#\\nGiven a standard deployable LLM goes through pre-training and fine-tuning for alignment and other improvements, let us consider causes at both stages.\\nPre-training Data Issues#\\nThe volume of the pre-training data corpus is enormous, as it is supposed to represent world knowledge in all available written forms. Data crawled from the public Internet is the most common choice and thus out-of-date, missing, or incorrect information is expected. As the model may incorrectly memorize this information by simply maximizing the log-likelihood, we would expect the model to make mistakes.\\nFine-tuning New Knowledge#\\nFine-tuning a pre-trained LLM via supervised fine-tuning and RLHF is a common technique for improving certain capabilities of the model like instruction following. Introducing new knowledge at the fine-tuning stage is hard to avoid.')]"
      ]
     },
     "execution_count": 38,
     "metadata": {},
     "output_type": "execute_result"
    }
   ],
   "source": [
    "splits[0:2]"
   ]
  },
  {
   "cell_type": "markdown",
   "metadata": {},
   "source": [
    "3. Embeddings creation\n",
    "\n",
    "Link : https://python.langchain.com/v0.2/docs/integrations/text_embedding/openai/"
   ]
  },
  {
   "cell_type": "code",
   "execution_count": 19,
   "metadata": {},
   "outputs": [],
   "source": [
    "question = \"What kinds of pets do I like?\"\n",
    "document = \"My favorite pet is a cat.\""
   ]
  },
  {
   "cell_type": "code",
   "execution_count": 20,
   "metadata": {},
   "outputs": [
    {
     "data": {
      "text/plain": [
       "384"
      ]
     },
     "execution_count": 20,
     "metadata": {},
     "output_type": "execute_result"
    }
   ],
   "source": [
    "from langchain_community.embeddings import HuggingFaceBgeEmbeddings\n",
    "model_name = \"BAAI/bge-small-en\"\n",
    "model_kwargs = {\"device\": \"cpu\"}\n",
    "encode_kwargs = {\"normalize_embeddings\": True}\n",
    "hf_embeddings = HuggingFaceBgeEmbeddings(\n",
    "    model_name=model_name, model_kwargs=model_kwargs, encode_kwargs=encode_kwargs\n",
    ")\n",
    "query_result = hf_embeddings.embed_query(question)\n",
    "document_result = hf_embeddings.embed_query(document)\n",
    "len(query_result)"
   ]
  },
  {
   "cell_type": "code",
   "execution_count": 21,
   "metadata": {},
   "outputs": [
    {
     "name": "stdout",
     "output_type": "stream",
     "text": [
      "Cosine Similarity: 0.902305234006825\n"
     ]
    }
   ],
   "source": [
    "import numpy as np\n",
    "\n",
    "def cosine_similarity(vec1, vec2):\n",
    "    dot_product = np.dot(vec1, vec2)\n",
    "    norm_vec1 = np.linalg.norm(vec1)\n",
    "    norm_vec2 = np.linalg.norm(vec2)\n",
    "    return dot_product / (norm_vec1 * norm_vec2)\n",
    "\n",
    "similarity = cosine_similarity(query_result, document_result)\n",
    "print(\"Cosine Similarity:\", similarity)"
   ]
  },
  {
   "cell_type": "markdown",
   "metadata": {},
   "source": [
    "4. Vector stores\n",
    "\n",
    "Link : https://python.langchain.com/v0.2/docs/integrations/vectorstores/"
   ]
  },
  {
   "cell_type": "code",
   "execution_count": 22,
   "metadata": {},
   "outputs": [],
   "source": [
    "from langchain_community.vectorstores import FAISS\n",
    "vectorstore = FAISS.from_documents(documents=splits, \n",
    "                                    embedding=hf_embeddings)\n",
    "\n",
    "retriever = vectorstore.as_retriever()"
   ]
  },
  {
   "cell_type": "code",
   "execution_count": 23,
   "metadata": {},
   "outputs": [
    {
     "data": {
      "text/plain": [
       "VectorStoreRetriever(tags=['FAISS', 'HuggingFaceBgeEmbeddings'], vectorstore=<langchain_community.vectorstores.faiss.FAISS object at 0x000001BF53529970>)"
      ]
     },
     "execution_count": 23,
     "metadata": {},
     "output_type": "execute_result"
    }
   ],
   "source": [
    "retriever"
   ]
  },
  {
   "cell_type": "markdown",
   "metadata": {},
   "source": [
    "5. Retrieval\n",
    "\n",
    "Fetching the similar vectors"
   ]
  },
  {
   "cell_type": "code",
   "execution_count": 28,
   "metadata": {},
   "outputs": [],
   "source": [
    "docs = retriever.get_relevant_documents(\"What is Task Hallucination?\")\n"
   ]
  },
  {
   "cell_type": "code",
   "execution_count": 29,
   "metadata": {},
   "outputs": [
    {
     "data": {
      "text/plain": [
       "4"
      ]
     },
     "execution_count": 29,
     "metadata": {},
     "output_type": "execute_result"
    }
   ],
   "source": [
    "len(docs)"
   ]
  },
  {
   "cell_type": "code",
   "execution_count": 30,
   "metadata": {},
   "outputs": [
    {
     "data": {
      "text/plain": [
       "[Document(metadata={'source': 'https://lilianweng.github.io/posts/2024-07-07-hallucination/'}, page_content='Fig. 3. The evaluation framework for the FactualityPrompt benchmark.(Image source: Lee, et al. 2022)\\nGiven the model continuation and paired Wikipedia text, two evaluation metrics for hallucination are considered:\\n\\nHallucination NE (Named Entity) errors: Using a pretrained entity detection model and document-level grounding, this metric measures the fraction of detected named entities that do not appear in the ground truth document.\\nEntailment ratios: Using a RoBERTa model fine-tuned on MNLI and sentence-level knowledge grounding, this metric calculates the fraction of generated sentences that are marked as relevant to the paired Wikipedia sentence by the entailment model.'),\n",
       " Document(metadata={'source': 'https://lilianweng.github.io/posts/2024-07-07-hallucination/'}, page_content='Or\\n@article{weng2024hallucination,\\n  title   = \"Extrinsic Hallucinations in LLMs.\",\\n  author  = \"Weng, Lilian\",\\n  journal = \"lilianweng.github.io\",\\n  year    = \"2024\",\\n  month   = \"Jul\",\\n  url     = \"https://lilianweng.github.io/posts/2024-07-07-hallucination/\"\\n}\\nReferences#\\n[1] Ji et al. “Survey of hallucination in natural language generation.” ACM Computing Surveys (2022)\\n[2] Gekhman et al. “Does Fine-Tuning LLMs on New Knowledge Encourage Hallucinations?” arXiv preprint arXiv:2405.05904 (2024).\\n[3] Min et al. “FActScore: Fine-grained atomic evaluation of factual precision in long form text generation.” EMNLP 2023.\\n[4] Wei et al. 2024 “Long-form Factuality in LLMs” arXiv preprint arXiv:2403.18802 (2024).'),\n",
       " Document(metadata={'source': 'https://lilianweng.github.io/posts/2024-07-07-hallucination/'}, page_content='LongFact (Wei et al. 2024 ) is designed for checking long-form generation factuality. It consists of 2280 fact-seeking prompts that seek long-form responses on 38 manually curated topics\\nHaDes (Liu et al. 2021) is a benchmark for hallucination detection as a binary classification task. The dataset is created by perturbing Wikipedia text and human annotation.\\nFEVER (Fact Extraction and VERification) dataset contains 185,445 claims generated by altering sentences extracted from Wikipedia and subsequently verified without knowledge of the sentence they were derived from. Each claim is classified as Supported, Refuted or NotEnoughInfo.\\nFAVABench (Mishra et al. 2024) is a benchmark for evaluating fine-grained hallucination. There are 200 information-seeking source prompts and 3 model responses per prompt, resulting in 600 responses in total. Each model response is manually labeled with fine-grained annotations on hallucination error types.\\nCitation#\\nCited as:'),\n",
       " Document(metadata={'source': 'https://lilianweng.github.io/posts/2024-07-07-hallucination/'}, page_content='Extrinsic Hallucinations in LLMs\\n    \\nDate: July 7, 2024  |  Estimated Reading Time: 30 min  |  Author: Lilian Weng\\n\\n\\nHallucination in large language models usually refers to the model generating unfaithful, fabricated, inconsistent, or nonsensical content. As a term, hallucination has been somewhat generalized to cases when the model makes mistakes. Here, I would like to narrow down the problem of hallucination to cases where the model output is fabricated and not grounded by either the provided context or world knowledge.\\nThere are two types of hallucination:\\n\\nIn-context hallucination: The model output should be consistent with the source content in context.\\nExtrinsic hallucination: The model output should be grounded by the pre-training dataset. However, given the size of the pre-training dataset, it is too expensive to retrieve and identify conflicts per generation. If we consider the pre-training data corpus as a proxy for world knowledge, we essentially try to ensure the model output is factual and verifiable by external world knowledge. Equally importantly, when the model does not know about a fact, it should say so.')]"
      ]
     },
     "execution_count": 30,
     "metadata": {},
     "output_type": "execute_result"
    }
   ],
   "source": [
    "docs"
   ]
  },
  {
   "cell_type": "markdown",
   "metadata": {},
   "source": [
    "6. Generation"
   ]
  },
  {
   "cell_type": "code",
   "execution_count": 31,
   "metadata": {},
   "outputs": [
    {
     "data": {
      "text/plain": [
       "ChatPromptTemplate(input_variables=['context', 'question'], messages=[HumanMessagePromptTemplate(prompt=PromptTemplate(input_variables=['context', 'question'], template='Answer the question based only on the following context:\\n{context}\\n\\nQuestion: {question}\\n'))])"
      ]
     },
     "execution_count": 31,
     "metadata": {},
     "output_type": "execute_result"
    }
   ],
   "source": [
    "from langchain_groq import ChatGroq\n",
    "from langchain.prompts import ChatPromptTemplate\n",
    "\n",
    "# Prompt\n",
    "template = \"\"\"Answer the question based only on the following context:\n",
    "{context}\n",
    "\n",
    "Question: {question}\n",
    "\"\"\"\n",
    "\n",
    "prompt = ChatPromptTemplate.from_template(template)\n",
    "prompt"
   ]
  },
  {
   "cell_type": "code",
   "execution_count": 32,
   "metadata": {},
   "outputs": [],
   "source": [
    "# LLM\n",
    "llm = ChatGroq(model=\"llama3-8b-8192\", temperature=0)"
   ]
  },
  {
   "cell_type": "code",
   "execution_count": 33,
   "metadata": {},
   "outputs": [],
   "source": [
    "# Chain\n",
    "chain = prompt | llm"
   ]
  },
  {
   "cell_type": "code",
   "execution_count": 34,
   "metadata": {},
   "outputs": [
    {
     "data": {
      "text/plain": [
       "AIMessage(content='According to the provided context, Hallucination in large language models refers to the model generating \"unfaithful, fabricated, inconsistent, or nonsensical content\".', response_metadata={'token_usage': {'completion_tokens': 34, 'prompt_tokens': 999, 'total_tokens': 1033, 'completion_time': 0.026204326, 'prompt_time': 0.168682456, 'queue_time': None, 'total_time': 0.194886782}, 'model_name': 'llama3-8b-8192', 'system_fingerprint': 'fp_179b0f92c9', 'finish_reason': 'stop', 'logprobs': None}, id='run-cfb868e1-5649-4eda-bee6-fb72a137c32c-0', usage_metadata={'input_tokens': 999, 'output_tokens': 34, 'total_tokens': 1033})"
      ]
     },
     "execution_count": 34,
     "metadata": {},
     "output_type": "execute_result"
    }
   ],
   "source": [
    "# Run\n",
    "chain.invoke({\"context\":docs,\"question\":\"What is Hallucination?\"})"
   ]
  },
  {
   "cell_type": "markdown",
   "metadata": {},
   "source": [
    "RAG Chains\n",
    "\n",
    "Link: https://python.langchain.com/v0.1/docs/expression_language/get_started/#rag-search-example"
   ]
  },
  {
   "cell_type": "code",
   "execution_count": 35,
   "metadata": {},
   "outputs": [],
   "source": [
    "from langchain import hub\n",
    "prompt_hub_rag = hub.pull(\"rlm/rag-prompt\")"
   ]
  },
  {
   "cell_type": "code",
   "execution_count": 36,
   "metadata": {},
   "outputs": [
    {
     "data": {
      "text/plain": [
       "ChatPromptTemplate(input_variables=['context', 'question'], metadata={'lc_hub_owner': 'rlm', 'lc_hub_repo': 'rag-prompt', 'lc_hub_commit_hash': '50442af133e61576e74536c6556cefe1fac147cad032f4377b60c436e6cdcb6e'}, messages=[HumanMessagePromptTemplate(prompt=PromptTemplate(input_variables=['context', 'question'], template=\"You are an assistant for question-answering tasks. Use the following pieces of retrieved context to answer the question. If you don't know the answer, just say that you don't know. Use three sentences maximum and keep the answer concise.\\nQuestion: {question} \\nContext: {context} \\nAnswer:\"))])"
      ]
     },
     "execution_count": 36,
     "metadata": {},
     "output_type": "execute_result"
    }
   ],
   "source": [
    "prompt_hub_rag\n"
   ]
  },
  {
   "cell_type": "code",
   "execution_count": 37,
   "metadata": {},
   "outputs": [
    {
     "data": {
      "text/plain": [
       "'Hallucination in large language models refers to the model generating unfaithful, fabricated, inconsistent, or nonsensical content. It is a type of mistake where the model output is fabricated and not grounded by either the provided context or world knowledge.'"
      ]
     },
     "execution_count": 37,
     "metadata": {},
     "output_type": "execute_result"
    }
   ],
   "source": [
    "from langchain_core.output_parsers import StrOutputParser\n",
    "from langchain_core.runnables import RunnablePassthrough\n",
    "\n",
    "rag_chain = (\n",
    "    {\"context\": retriever, \"question\": RunnablePassthrough()}\n",
    "    | prompt_hub_rag\n",
    "    | llm\n",
    "    | StrOutputParser()\n",
    ")\n",
    "\n",
    "rag_chain.invoke(\"What is  Hallucination?\")"
   ]
  }
 ],
 "metadata": {
  "kernelspec": {
   "display_name": "ollama",
   "language": "python",
   "name": "python3"
  },
  "language_info": {
   "codemirror_mode": {
    "name": "ipython",
    "version": 3
   },
   "file_extension": ".py",
   "mimetype": "text/x-python",
   "name": "python",
   "nbconvert_exporter": "python",
   "pygments_lexer": "ipython3",
   "version": "3.12.4"
  }
 },
 "nbformat": 4,
 "nbformat_minor": 2
}
