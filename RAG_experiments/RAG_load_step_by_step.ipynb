{
 "cells": [
  {
   "cell_type": "code",
   "execution_count": 4,
   "metadata": {},
   "outputs": [
    {
     "data": {
      "text/plain": [
       "True"
      ]
     },
     "execution_count": 4,
     "metadata": {},
     "output_type": "execute_result"
    }
   ],
   "source": [
    "import os\n",
    "from dotenv import load_dotenv, find_dotenv\n",
    "load_dotenv(find_dotenv())"
   ]
  },
  {
   "cell_type": "code",
   "execution_count": 6,
   "metadata": {},
   "outputs": [],
   "source": [
    "os.environ['LANGCHAIN_TRACING_V2'] = 'true'\n",
    "os.environ['LANGCHAIN_ENDPOINT'] = 'https://api.smith.langchain.com'\n",
    "os.environ['LANGCHAIN_PROJECT'] = 'test-rag'\n",
    "os.environ['LANGCHAIN_API_KEY'] = os.getenv(\"LANGCHAIN_API_KEY\")\n",
    "os.environ['GROQ_API_KEY'] = os.getenv(\"GROQ_API_KEY\")"
   ]
  },
  {
   "cell_type": "code",
   "execution_count": 30,
   "metadata": {},
   "outputs": [
    {
     "name": "stdout",
     "output_type": "stream",
     "text": [
      "[Document(metadata={'source': 'https://techcrunch.com/2024/01/30/chatgpt-users-can-now-invoke-gpts-directly-in-chats/', 'title': 'ChatGPT users can now invoke GPTs directly in chats | TechCrunch', 'description': \"Users of ChatGPT can now invoke custom GPTs, chatbots built on top of OpenAI's GenAI models, in conversations. GPTs will have the full context of those convos.\", 'language': 'en-US'}, page_content=\"\\n\\n\\n\\n\\n\\n\\n\\n\\n\\n\\n\\n\\n\\n\\n\\n\\n\\n\\n\\n\\n\\n\\n\\n\\n\\n\\n\\n\\n\\n\\n\\n\\n\\nChatGPT users can now invoke GPTs directly in chats | TechCrunch\\n\\n\\n\\n\\n\\n\\n\\n\\n\\n\\n\\n\\n\\n\\n\\n\\n\\n\\n\\n\\n\\n\\n\\n\\n\\n\\n\\n\\n\\n\\n\\n\\n\\n\\n\\n\\n\\n\\n\\n\\n\\n\\n\\n\\n\\n\\n\\n\\n\\n\\n\\n\\n\\n\\n\\n\\n\\n\\n \\n\\n\\n\\n\\n\\n\\n\\n\\n\\n\\n\\n\\n\\n\\n\\n\\n\\n\\n\\n\\n\\n\\n\\n\\n\\n\\nLogin\\n\\n\\n\\n\\n\\nSearchStartupsVentureAppleSecurityAIAppsEventsStartup BattlefieldMoreFintechCloud ComputingLayoffsHardwareGoogleMicrosoftTransportationEVsMetaInstagramAmazonTikTokNewslettersPodcastsPartner ContentCrunchboard JobsContact UsSearch\\n\\n\\n\\n\\n\\n\\n\\n\\n\\n\\n\\n\\n\\t\\tAI\\t\\nChatGPT users can now invoke GPTs directly in chats\\n\\n\\n\\n\\nKyle Wiggers\\n\\n\\n1:15 PM PST • January 30, 2024\\n\\n\\n\\nComment\\n\\n\\nImage Credits: Didem Mente/Anadolu Agency / Getty Images\\n\\n\\nOpenAI is pushing adoption of GPTs, third-party apps powered by its AI models, by enabling ChatGPT users to invoke them in any chat.\\nStarting today, paid users of ChatGPT, OpenAI’s AI chatbot front end, can bring GPTs into a conversation by typing “@” and selecting a GPT from the list. The chosen GPT will have an understanding of the full conversation, and different GPTs can be “tagged in” for different use cases and needs — jumping into the conversation with context of things that were said previously.\\n\\n\\n\\n“This allows you to add relevant GPTs with the full context of the conversation,” OpenAI said in a tweet.\\n\\nYou can now bring GPTs into any conversation in ChatGPT – simply type @ and select the GPT. \\nThis allows you to add relevant GPTs with the full context of the conversation. pic.twitter.com/Pjn5uIy9NF\\n— OpenAI (@OpenAI) January 30, 2024\\n\\n\\n\\n\\n\\n\\nThe move to make GPTs more discoverable comes weeks after the launch of the GPT Store, a marketplace for GPTs accessible through the ChatGPT dashboard. Building GPTs doesn’t require coding experience, and GPTs can be as simple or complex as a developer wishes. A few available today include a trail recommender from AllTrails, a code tutor from Khan Academy and a content designer from Canva.\\n\\n\\n\\nOpenAI plans to eventually introduce monetization for developers who wish to sell access to their GPTs. But the company might have to get traffic up first. According to data from Similarweb, the web analytics company, custom GPTs comprise only about 2.7% of ChatGPT’s worldwide web traffic so far — and custom GPT traffic has been declining month over month since November.\\nModeration is proving to be another challenge. In the first week of its launch, the GPT Store was flooded with “romantic” chatbots apps, some of which were sexually suggestive — a clear violation of OpenAI’s terms. Developers also rushed to make political campaigning bots — like a chatbot that impersonated U.S. presidential candidate Dean Phillips — another obvious violation.\\nOpenAI, which claims to use a combination of human and automated review to flag GPTs, has since removed some of the offending apps. But if the volume of GPTs grows as the company’s clearly hoping, one imagines that the problem is only going to become more acute.\\n\\n\\n\\n\\n \\n\\n \\n\\n \\n\\n \\n\\n \\n\\n \\n\\n\\nMore TechCrunch\\n\\n\\n\\n\\n\\n\\n\\n\\n\\n\\n\\n\\n\\n\\n\\nGet the industry’s biggest tech news\\nExplore all newsletters\\n\\n\\n\\n\\n\\n\\nTechCrunch Daily News\\nEvery weekday and Sunday, you can get the best of TechCrunch’s coverage.\\n\\n\\n\\n\\n\\nStartups Weekly\\nStartups are the core of TechCrunch, so get our best coverage delivered weekly.\\n\\n\\n\\n\\n\\nTechCrunch Fintech\\nThe latest Fintech news and analysis, delivered every Tuesday.\\n\\n\\n\\n\\n\\nTechCrunch Mobility\\nTechCrunch Mobility is your destination for transportation news and insight.\\n\\n\\n\\n\\n\\n\\n\\nEmail address (required)\\n\\n\\n\\nSubscribe\\n\\n\\n\\n\\nBy submitting your email, you agree to our Terms and Privacy Notice.\\n\\t\\t\\t\\n\\n\\n\\n\\nTagsOpenAI, Generative AI, ChatGPT, gpt store, GPTs, genAI\\n\\n\\n\\n\\n\\n\\n\\n\\n\\n\\n\\n\\t\\tFintech\\t\\nStripe acquires payment processing startup\\xa0Lemon Squeezy\\n\\n\\n\\nMary Ann Azevedo\\n\\n\\n\\n\\n\\t11 hours ago\\n\\n\\nPayments giant Stripe has acquired a four-year-old competitor, Lemon Squeezy, the latter company announced Friday. Terms of the deal were not disclosed. As a merchant of record, Lemon Squeezy calculates… \\n\\n\\n\\n\\n\\n\\n\\n\\n\\n\\n\\t\\tSecurity\\t\\nApple reports iCloud Private Relay global outages for some users\\n\\n\\n\\nJagmeet Singh\\n\\n\\n\\n\\n\\t12 hours ago\\n\\n\\niCloud Private Relay has not been working for some Apple users across major markets, including the U.S., Europe, India and Japan. \\n\\n\\n\\n\\n\\n\\n\\n\\n\\n\\n\\t\\tStartups\\t\\nLegal tech, VC brawls and saying no to big offers\\n\\n\\n\\nMarina Temkin\\n\\n\\n\\n\\n\\t13 hours ago\\n\\n\\nWelcome to Startups Weekly — your weekly recap of everything you can’t miss from the world of startups.\\xa0To get Startups Weekly in your inbox every Friday, sign up here. This… \\n\\n\\n\\n\\n\\n\\n\\n\\n\\n\\n\\t\\tAI\\t\\nApple signs the White House’s commitment to AI safety\\n\\n\\n\\nMaxwell Zeff\\n\\n\\n\\n\\n\\t14 hours ago\\n\\n\\nApple joins 15 other tech companies — including Google, Meta, Microsoft and OpenAI — that committed to the White House’s rules for developing generative AI. \\n\\n\\n\\n\\n\\n\\n\\n\\n\\n\\n\\t\\tAI\\t\\nPrivacy watchdog says it’s ‘surprised’ by Elon Musk opting user data into Grok AI training\\n\\n\\n\\nNatasha Lomas\\n\\n\\n\\n\\n\\t14 hours ago\\n\\n\\nThe language is ambiguous, so it’s not clear whether X is helping itself to all user data for training Grok or whether this processing refers only to user interactions with… \\n\\n\\n\\n\\n\\n\\n\\n\\n\\n\\n\\t\\tApps\\t\\nTikTok rolls out a new feature that lets you find songs by singing or humming them\\n\\n\\n\\nAisha Malik\\n\\n\\n\\n\\n\\t15 hours ago\\n\\n\\nSound Search on TikTok is somewhat similar to YouTube Music’s song detection tool that lets you find the name of a song by singing, humming or playing it.\\xa0 \\n\\n\\n\\n\\n\\n\\n\\n\\n\\n\\n\\t\\tRobotics\\t\\nAlphabet X spinoff partners with Arc’teryx to bring\\xa0 ‘everyday’ exoskeleton to market\\n\\n\\n\\nBrian Heater\\n\\n\\n\\n\\n\\t15 hours ago\\n\\n\\nSkip, a wearable tech startup that began as a secretive project inside Alphabet, exited stealth this week to announce a partnership with outdoor clothing specialist Arc’teryx. The deal is the… \\n\\n\\n\\n\\n\\n\\n\\n\\n\\n\\n\\t\\tCrypto\\t\\nLedger launches Ledger Flex, a mid-range hardware crypto wallet\\n\\n\\n\\nRomain Dillet\\n\\n\\n\\n\\n\\t17 hours ago\\n\\n\\nLedger, a French startup mostly known for its secure crypto hardware wallets, has launched a new mid-range device, the Ledger Flex. Available now, priced at $249, the dinky hardware wallet… \\n\\n\\n\\n\\n\\n\\n\\n\\n\\n\\n\\t\\tAI\\t\\nHere’s how to disable X (Twitter) from using your data to train its Grok AI\\n\\n\\n\\nAisha Malik\\n\\n\\n\\n\\n\\t18 hours ago\\n\\n\\nThe good news is that you can switch off the new data-sharing setting and also delete your conversation history with the AI.\\xa0 \\n\\n\\n\\n\\n\\n\\n\\n\\n\\n\\n\\t\\tSpace\\t\\nSpaceX cleared to resume Falcon 9 launches while FAA investigation remains open\\n\\n\\n\\nAria Alamalhodaei\\n\\n\\n\\n\\n\\t18 hours ago\\n\\n\\nRegulators gave SpaceX the all-clear to return to launch two weeks after the Falcon 9 rocket experienced an anomaly on orbit. \\n\\n\\n\\n\\n\\n\\n\\n\\n\\n\\n\\t\\tStartups\\t\\nDigital marketing startup Plaiced has acquired Precursor Ventures-backed Clutch\\n\\n\\n\\nDominic-Madori Davis\\n\\n\\n\\n\\n\\t20 hours ago\\n\\n\\nMadison Long and Simone May founded Clutch in 2020 to help connect people to businesses looking for marketing and content creation. \\n\\n\\n\\n\\n\\n\\n\\n\\n\\n\\n\\t\\tSecurity\\t\\nZeroTier raises $13.5M to help avert CrowdStrike-like network problems\\n\\n\\n\\nMike Butcher\\n\\n\\n\\n\\n\\t20 hours ago\\n\\n\\nWith the CrowdStrike update continuing to cause havoc across the planet, a startup has raised $13.5 million to at least improve some level of security for the kinds of devices… \\n\\n\\n\\n\\n\\n\\n\\n\\n\\n\\n\\t\\tGadgets\\t\\nApple cuts iPhone price in India amid China slowdown\\n\\n\\n\\nManish Singh\\n\\n\\n\\n\\n\\t21 hours ago\\n\\n\\nApple has reduced prices of its iPhone models in India by 3-4% following a cut in import duties in the South Asian market. \\n\\n\\n\\n\\n\\n\\n\\n\\n\\n\\n\\t\\tFintech\\t\\nEgypt’s MNT-Halan banks $157.5M, gobbles up a fintech in Turkey to expand\\n\\n\\n\\nTage Kene-Okafor\\n\\n\\n\\n\\n\\t1 day ago\\n\\n\\nMNT-Halan, a fintech unicorn out of Egypt, is on a consolidation march. The microfinance and payments startup has raised $157.5 million in funding and is using the money in part… \\n\\n\\n\\n\\n\\n\\n\\n\\n\\n\\n\\t\\tClimate\\t\\nEnergy tech startup Greenely grabs €8M to reach more households and support Europe’s energy transition\\n\\n\\n\\nNatasha Lomas\\n\\n\\n\\n\\n\\t1 day ago\\n\\n\\nThe energy transition is a marathon, not a sprint. But opportunities for acceleration are growing. Swedish startup Greenely* has just spotted one. It’s closing an €8 million Series A funding… \\n\\n\\n\\n\\n\\n\\n\\n\\n\\n\\n\\t\\tStartups\\t\\nLuxury fashion startup The Floorr empowers personal stylists with tools to grow their businesses\\n\\n\\n\\nLauren Forristal\\n\\n\\n\\n\\n\\t1 day ago\\n\\n\\nThe Floorr offers tools for conducting sales, hosting tailored styling sessions, creating mood boards, and engaging in text or voice chats with clients, all in one place.\\xa0 \\n\\n\\n\\n\\n\\n\\n\\n\\n\\n\\n\\t\\tStartups\\t\\nHere’s why David Sacks, Paul Graham and other big Silicon Valley names had a brawl on X over VC behavior\\n\\n\\n\\nJulie Bort\\n\\n\\n\\n\\n\\t1 day ago\\n\\n\\nA decade-old drama involving VC David Sacks and Rippling founder Parker Conrad has blown up on X with many among the Silicon Valley elite taking sides. \\n\\n\\n\\n\\n\\n\\n\\n\\n\\n\\n\\t\\tAI\\t\\nChatGPT: Everything you need to know about the AI-powered chatbot\\n\\n\\nKyle Wiggers\\n\\n\\nCody Corrall\\n\\n\\nAlyssa Stringer\\n\\n\\n\\n\\t2 days ago\\n\\n\\nChatGPT, OpenAI’s text-generating AI chatbot, has taken the world by storm since its launch in November 2022. What started as a tool to hyper-charge productivity through writing essays and code… \\n\\n\\n\\n\\n\\n\\n\\n\\n\\n\\n\\t\\tTransportation\\t\\nApplied Intuition closes $300M secondary four months after raising $250M\\n\\n\\n\\nSean O'Kane\\n\\n\\n\\n\\n\\t2 days ago\\n\\n\\nAutonomous vehicle software startup Applied Intuition has closed a $300 million secondary sale just four months after raising a $250 million Series E round, yet another sign of how white-hot… \\n\\n\\n\\n\\n\\n\\n\\n\\n\\n\\n\\t\\tApps\\t\\nWith Google in its sights, OpenAI unveils SearchGPT\\n\\n\\n\\nKyle Wiggers\\n\\n\\n\\n\\n\\t2 days ago\\n\\n\\nOpenAI may have designs to get into the search game — challenging not only upstarts like Perplexity, but Google and Bing, too. The company on Thursday unveiled SearchGPT, a search… \\n\\n\\n\\n\\n\\n\\n\\n\\n\\n\\n\\t\\tTransportation\\t\\nUber, Lyft, DoorDash can continue to classify drivers as contractors in California\\n\\n\\n\\nRebecca Bellan\\n\\n\\n\\n\\n\\t2 days ago\\n\\n\\nThe California Supreme Court ruled Thursday that Proposition 22 — the ballot measure that passed in November 2020 and classified app-based gig workers as independent contractors rather than employees —… \\n\\n\\n\\n\\n\\n\\n\\n\\n\\n\\n\\t\\tApps\\t\\nMark Zuckerberg says WhatsApp has 100M monthly active users in the US\\n\\n\\n\\nIvan Mehta\\n\\n\\n\\n\\n\\t2 days ago\\n\\n\\nWhatsApp has recently ramped up its marketing push in the U.S. \\n\\n\\n\\n\\n\\n\\n\\n\\n\\n\\n\\t\\tTransportation\\t\\nAlphabet pours $5B into Waymo, Cruise scraps the Origin and Elon’s bet on autonomy\\n\\n\\n\\nKirsten Korosec\\n\\n\\n\\n\\n\\t2 days ago\\n\\n\\nWelcome back to TechCrunch Mobility — your central hub for news and insights on the future of transportation. Sign up here for free — just click TechCrunch Mobility! I don’t… \\n\\n\\n\\n\\n\\n\\n\\n\\n\\n\\n\\t\\tEnterprise\\t\\nArchera helps customers access deep cloud discounts\\n\\n\\n\\nKyle Wiggers\\n\\n\\n\\n\\n\\t2 days ago\\n\\n\\nIn addition to insured commitments, Archera provides consulting services to help build purchasing strategies for customers to optimize their cloud usage. \\n\\n\\n\\n\\n\\n\\n\\n\\n\\n\\n\\t\\tAI\\t\\nGoogle makes its Gemini chatbot faster and more widely available\\n\\n\\n\\nKyle Wiggers\\n\\n\\n\\n\\n\\t2 days ago\\n\\n\\nIn its bid to maintain pace with generative AI rivals like Anthropic and OpenAI, Google is rolling out updates to the no-fee tier of Gemini, its AI-powered chatbot. The updates… \\n\\n\\n\\n\\n\\n\\n\\n\\n\\n\\n\\t\\tAI\\t\\nZoomInfo alum raises $15M for startup that builds AI sales engineers\\n\\n\\n\\nMarina Temkin\\n\\n\\n\\n\\n\\t2 days ago\\n\\n\\nUntil a year ago, Arjun Pillai had the comfortable yet important role of chief data officer at ZoomInfo, a B2B database company. But the serial entrepreneur was getting antsy. He… \\n\\n\\n\\n\\n\\n\\n\\n\\n\\n\\n\\t\\tApps\\t\\nSubstack writers can now draft and publish posts in iOS app\\n\\n\\n\\nAisha Malik\\n\\n\\n\\n\\n\\t2 days ago\\n\\n\\nSubstack is rolling out the ability for writers to draft and publish new posts directly from their phone via its iOS app, the company announced on Thursday. Until now, users… \\n\\n\\n\\n\\n\\n\\n\\n\\n\\n\\n\\t\\tTechCrunch Disrupt 2024\\t\\nDisrupt 2024 Career Fair: Your gateway to top tech talent\\n\\n\\n\\nTechCrunch Events\\n\\n\\n\\n\\n\\t2 days ago\\n\\n\\nDisrupt 2024 is the premier event where tech careers are launched, connections are forged, and the future of technology talent takes center stage. The Disrupt Career Fair is the perfect… \\n\\n\\n\\n\\n\\n\\n\\n\\n\\nFeatured Article\\nHacked, leaked, exposed: Why you should never use stalkerware apps\\nUsing stalkerware is creepy, unethical, potentially illegal, and puts your data and that of your loved ones in danger. \\n\\n\\n\\nLorenzo Franceschi-Bicchierai\\n\\n\\n\\n\\n\\t2 days ago\\n\\n\\n\\n\\n\\n\\n\\n\\n\\nFeatured Article\\nEndeavor CEO says long-term capital needs to be prioritized in emerging ecosystems\\nVenture capital has become a more global industry as the tech sector slowly decentralizes. In 2022, more than 50% of VC deployed globally was invested in startups outside the U.S., according to data available from the National Science Foundation (NSF) — a stark contrast to 20 years ago, when nearly… \\n\\n\\n\\nTage Kene-Okafor\\n\\n\\n\\n\\n\\t2 days ago\\n\\n\\n\\n\\n\\n\\n\\n\\n\\n\\n\\n\\n\\n\\n\\n\\n\\n\\n\\n\\n\\n\\n\\n\\n\\n\\n\\n\\n\\n\\n\\n\\n\\n\\n\\nAbout\\nTechCrunchStaffContact UsAdvertiseCrunchboard JobsSite Map\\n\\n\\n\\nLegal\\nTerms of ServicePrivacy PolicyRSS Terms of UsePrivacy Placeholder 1Privacy Placeholder 2Privacy Placeholder 3Privacy Placeholder 4Code of ConductAbout Our Ads\\n\\n\\n\\nTrending Tech Topics\\nSearchGPTGoogle Gemini ChatbotKodiak RoboticsMIstral’s Large 2Optimus RobotTech LayoffsChatGPT\\n\\n\\nFacebook\\nX\\nYouTube\\nInstagram\\nLinkedIn\\nMastodon\\nThreads\\n\\n\\n\\n\\n\\n\\n\\n\\n\\t\\t©\\n\\t\\n\\n\\t\\t2024\\t\\nYahoo. All rights reserved.\\n\\nPowered by WordPress VIP\\n\\n\\n\\n\\n\\n\\n\\n\\n\\n\\n\\n\\n\\n\\n\\n\\n\\n\\n\\n\\n\\n\\n\\n\\n\\n\")]\n"
     ]
    }
   ],
   "source": [
    "from langchain_community.document_loaders import WebBaseLoader\n",
    "loader = WebBaseLoader( web_paths=(\"https://techcrunch.com/2024/01/30/chatgpt-users-can-now-invoke-gpts-directly-in-chats/\",))\n",
    "data = loader.load()\n",
    "print(data)"
   ]
  },
  {
   "cell_type": "code",
   "execution_count": 31,
   "metadata": {},
   "outputs": [],
   "source": [
    "from langchain_text_splitters import RecursiveCharacterTextSplitter\n",
    "split_text = RecursiveCharacterTextSplitter.from_tiktoken_encoder(chunk_size = 800, chunk_overlap = 100)\n",
    "split = split_text.split_documents(data)\n"
   ]
  },
  {
   "cell_type": "code",
   "execution_count": 32,
   "metadata": {},
   "outputs": [],
   "source": [
    "question = \"What is India?\"\n",
    "context = \"India is a co\""
   ]
  },
  {
   "cell_type": "code",
   "execution_count": 33,
   "metadata": {},
   "outputs": [],
   "source": [
    "from langchain_community.embeddings import HuggingFaceBgeEmbeddings\n",
    "model_name = \"BAAI/bge-small-en\"\n",
    "model_kwargs = {\"device\" : \"cpu\"}\n",
    "encode_kwargs = {\"normalize_embeddings\" : True}\n",
    "hf_embeddings = HuggingFaceBgeEmbeddings(model_name=model_name,model_kwargs=model_kwargs,encode_kwargs=model_kwargs)\n",
    "\n",
    "query_embedding = hf_embeddings.embed_query(question)\n",
    "document_embedding = hf_embeddings.embed_query(context)"
   ]
  },
  {
   "cell_type": "code",
   "execution_count": 34,
   "metadata": {},
   "outputs": [],
   "source": [
    "from langchain_community.vectorstores import FAISS\n",
    "vector_store = FAISS.from_documents(documents= split, embedding=hf_embeddings)\n",
    "retriever = vector_store.as_retriever()"
   ]
  },
  {
   "cell_type": "code",
   "execution_count": 35,
   "metadata": {},
   "outputs": [
    {
     "data": {
      "text/plain": [
       "VectorStoreRetriever(tags=['FAISS', 'HuggingFaceBgeEmbeddings'], vectorstore=<langchain_community.vectorstores.faiss.FAISS object at 0x000001DF3A3AFC80>)"
      ]
     },
     "execution_count": 35,
     "metadata": {},
     "output_type": "execute_result"
    }
   ],
   "source": [
    "retriever"
   ]
  },
  {
   "cell_type": "code",
   "execution_count": 38,
   "metadata": {},
   "outputs": [],
   "source": [
    "docs = retriever.get_relevant_documents(\"What is hallucination?\")"
   ]
  },
  {
   "cell_type": "code",
   "execution_count": 39,
   "metadata": {},
   "outputs": [
    {
     "data": {
      "text/plain": [
       "[Document(metadata={'source': 'https://techcrunch.com/2024/01/30/chatgpt-users-can-now-invoke-gpts-directly-in-chats/', 'title': 'ChatGPT users can now invoke GPTs directly in chats | TechCrunch', 'description': \"Users of ChatGPT can now invoke custom GPTs, chatbots built on top of OpenAI's GenAI models, in conversations. GPTs will have the full context of those convos.\", 'language': 'en-US'}, page_content='More TechCrunch\\n\\n\\n\\n\\n\\n\\n\\n\\n\\n\\n\\n\\n\\n\\n\\nGet the industry’s biggest tech news\\nExplore all newsletters\\n\\n\\n\\n\\n\\n\\nTechCrunch Daily News\\nEvery weekday and Sunday, you can get the best of TechCrunch’s coverage.\\n\\n\\n\\n\\n\\nStartups Weekly\\nStartups are the core of TechCrunch, so get our best coverage delivered weekly.\\n\\n\\n\\n\\n\\nTechCrunch Fintech\\nThe latest Fintech news and analysis, delivered every Tuesday.\\n\\n\\n\\n\\n\\nTechCrunch Mobility\\nTechCrunch Mobility is your destination for transportation news and insight.\\n\\n\\n\\n\\n\\n\\n\\nEmail address (required)\\n\\n\\n\\nSubscribe\\n\\n\\n\\n\\nBy submitting your email, you agree to our Terms and Privacy Notice.\\n\\t\\t\\t\\n\\n\\n\\n\\nTagsOpenAI, Generative AI, ChatGPT, gpt store, GPTs, genAI\\n\\n\\n\\n\\n\\n\\n\\n\\n\\n\\n\\n\\t\\tFintech\\t\\nStripe acquires payment processing startup\\xa0Lemon Squeezy\\n\\n\\n\\nMary Ann Azevedo\\n\\n\\n\\n\\n\\t11 hours ago\\n\\n\\nPayments giant Stripe has acquired a four-year-old competitor, Lemon Squeezy, the latter company announced Friday. Terms of the deal were not disclosed. As a merchant of record, Lemon Squeezy calculates… \\n\\n\\n\\n\\n\\n\\n\\n\\n\\n\\n\\t\\tSecurity\\t\\nApple reports iCloud Private Relay global outages for some users\\n\\n\\n\\nJagmeet Singh\\n\\n\\n\\n\\n\\t12 hours ago\\n\\n\\niCloud Private Relay has not been working for some Apple users across major markets, including the U.S., Europe, India and Japan. \\n\\n\\n\\n\\n\\n\\n\\n\\n\\n\\n\\t\\tStartups\\t\\nLegal tech, VC brawls and saying no to big offers\\n\\n\\n\\nMarina Temkin\\n\\n\\n\\n\\n\\t13 hours ago\\n\\n\\nWelcome to Startups Weekly — your weekly recap of everything you can’t miss from the world of startups.\\xa0To get Startups Weekly in your inbox every Friday, sign up here. This… \\n\\n\\n\\n\\n\\n\\n\\n\\n\\n\\n\\t\\tAI\\t\\nApple signs the White House’s commitment to AI safety\\n\\n\\n\\nMaxwell Zeff\\n\\n\\n\\n\\n\\t14 hours ago\\n\\n\\nApple joins 15 other tech companies — including Google, Meta, Microsoft and OpenAI — that committed to the White House’s rules for developing generative AI. \\n\\n\\n\\n\\n\\n\\n\\n\\n\\n\\n\\t\\tAI\\t\\nPrivacy watchdog says it’s ‘surprised’ by Elon Musk opting user data into Grok AI training\\n\\n\\n\\nNatasha Lomas\\n\\n\\n\\n\\n\\t14 hours ago\\n\\n\\nThe language is ambiguous, so it’s not clear whether X is helping itself to all user data for training Grok or whether this processing refers only to user interactions with… \\n\\n\\n\\n\\n\\n\\n\\n\\n\\n\\n\\t\\tApps\\t\\nTikTok rolls out a new feature that lets you find songs by singing or humming them\\n\\n\\n\\nAisha Malik\\n\\n\\n\\n\\n\\t15 hours ago\\n\\n\\nSound Search on TikTok is somewhat similar to YouTube Music’s song detection tool that lets you find the name of a song by singing, humming or playing it.\\xa0 \\n\\n\\n\\n\\n\\n\\n\\n\\n\\n\\n\\t\\tRobotics\\t\\nAlphabet X spinoff partners with Arc’teryx to bring\\xa0 ‘everyday’ exoskeleton to market\\n\\n\\n\\nBrian Heater\\n\\n\\n\\n\\n\\t15 hours ago\\n\\n\\nSkip, a wearable tech startup that began as a secretive project inside Alphabet, exited stealth this week to announce a partnership with outdoor clothing specialist Arc’teryx. The deal is the… \\n\\n\\n\\n\\n\\n\\n\\n\\n\\n\\n\\t\\tCrypto\\t\\nLedger launches Ledger Flex, a mid-range hardware crypto wallet'),\n",
       " Document(metadata={'source': 'https://techcrunch.com/2024/01/30/chatgpt-users-can-now-invoke-gpts-directly-in-chats/', 'title': 'ChatGPT users can now invoke GPTs directly in chats | TechCrunch', 'description': \"Users of ChatGPT can now invoke custom GPTs, chatbots built on top of OpenAI's GenAI models, in conversations. GPTs will have the full context of those convos.\", 'language': 'en-US'}, page_content=\"Startups\\t\\nLuxury fashion startup The Floorr empowers personal stylists with tools to grow their businesses\\n\\n\\n\\nLauren Forristal\\n\\n\\n\\n\\n\\t1 day ago\\n\\n\\nThe Floorr offers tools for conducting sales, hosting tailored styling sessions, creating mood boards, and engaging in text or voice chats with clients, all in one place.\\xa0 \\n\\n\\n\\n\\n\\n\\n\\n\\n\\n\\n\\t\\tStartups\\t\\nHere’s why David Sacks, Paul Graham and other big Silicon Valley names had a brawl on X over VC behavior\\n\\n\\n\\nJulie Bort\\n\\n\\n\\n\\n\\t1 day ago\\n\\n\\nA decade-old drama involving VC David Sacks and Rippling founder Parker Conrad has blown up on X with many among the Silicon Valley elite taking sides. \\n\\n\\n\\n\\n\\n\\n\\n\\n\\n\\n\\t\\tAI\\t\\nChatGPT: Everything you need to know about the AI-powered chatbot\\n\\n\\nKyle Wiggers\\n\\n\\nCody Corrall\\n\\n\\nAlyssa Stringer\\n\\n\\n\\n\\t2 days ago\\n\\n\\nChatGPT, OpenAI’s text-generating AI chatbot, has taken the world by storm since its launch in November 2022. What started as a tool to hyper-charge productivity through writing essays and code… \\n\\n\\n\\n\\n\\n\\n\\n\\n\\n\\n\\t\\tTransportation\\t\\nApplied Intuition closes $300M secondary four months after raising $250M\\n\\n\\n\\nSean O'Kane\\n\\n\\n\\n\\n\\t2 days ago\\n\\n\\nAutonomous vehicle software startup Applied Intuition has closed a $300 million secondary sale just four months after raising a $250 million Series E round, yet another sign of how white-hot… \\n\\n\\n\\n\\n\\n\\n\\n\\n\\n\\n\\t\\tApps\\t\\nWith Google in its sights, OpenAI unveils SearchGPT\\n\\n\\n\\nKyle Wiggers\\n\\n\\n\\n\\n\\t2 days ago\\n\\n\\nOpenAI may have designs to get into the search game — challenging not only upstarts like Perplexity, but Google and Bing, too. The company on Thursday unveiled SearchGPT, a search… \\n\\n\\n\\n\\n\\n\\n\\n\\n\\n\\n\\t\\tTransportation\\t\\nUber, Lyft, DoorDash can continue to classify drivers as contractors in California\\n\\n\\n\\nRebecca Bellan\\n\\n\\n\\n\\n\\t2 days ago\\n\\n\\nThe California Supreme Court ruled Thursday that Proposition 22 — the ballot measure that passed in November 2020 and classified app-based gig workers as independent contractors rather than employees —… \\n\\n\\n\\n\\n\\n\\n\\n\\n\\n\\n\\t\\tApps\\t\\nMark Zuckerberg says WhatsApp has 100M monthly active users in the US\\n\\n\\n\\nIvan Mehta\\n\\n\\n\\n\\n\\t2 days ago\\n\\n\\nWhatsApp has recently ramped up its marketing push in the U.S. \\n\\n\\n\\n\\n\\n\\n\\n\\n\\n\\n\\t\\tTransportation\\t\\nAlphabet pours $5B into Waymo, Cruise scraps the Origin and Elon’s bet on autonomy\\n\\n\\n\\nKirsten Korosec\\n\\n\\n\\n\\n\\t2 days ago\\n\\n\\nWelcome back to TechCrunch Mobility — your central hub for news and insights on the future of transportation. Sign up here for free — just click TechCrunch Mobility! I don’t… \\n\\n\\n\\n\\n\\n\\n\\n\\n\\n\\n\\t\\tEnterprise\\t\\nArchera helps customers access deep cloud discounts\\n\\n\\n\\nKyle Wiggers\\n\\n\\n\\n\\n\\t2 days ago\\n\\n\\nIn addition to insured commitments, Archera provides consulting services to help build purchasing strategies for customers to optimize their cloud usage. \\n\\n\\n\\n\\n\\n\\n\\n\\n\\n\\n\\t\\tAI\\t\\nGoogle makes its Gemini chatbot faster and more widely available\\n\\n\\n\\nKyle Wiggers\\n\\n\\n\\n\\n\\t2 days ago\"),\n",
       " Document(metadata={'source': 'https://techcrunch.com/2024/01/30/chatgpt-users-can-now-invoke-gpts-directly-in-chats/', 'title': 'ChatGPT users can now invoke GPTs directly in chats | TechCrunch', 'description': \"Users of ChatGPT can now invoke custom GPTs, chatbots built on top of OpenAI's GenAI models, in conversations. GPTs will have the full context of those convos.\", 'language': 'en-US'}, page_content='Enterprise\\t\\nArchera helps customers access deep cloud discounts\\n\\n\\n\\nKyle Wiggers\\n\\n\\n\\n\\n\\t2 days ago\\n\\n\\nIn addition to insured commitments, Archera provides consulting services to help build purchasing strategies for customers to optimize their cloud usage. \\n\\n\\n\\n\\n\\n\\n\\n\\n\\n\\n\\t\\tAI\\t\\nGoogle makes its Gemini chatbot faster and more widely available\\n\\n\\n\\nKyle Wiggers\\n\\n\\n\\n\\n\\t2 days ago\\n\\n\\nIn its bid to maintain pace with generative AI rivals like Anthropic and OpenAI, Google is rolling out updates to the no-fee tier of Gemini, its AI-powered chatbot. The updates… \\n\\n\\n\\n\\n\\n\\n\\n\\n\\n\\n\\t\\tAI\\t\\nZoomInfo alum raises $15M for startup that builds AI sales engineers\\n\\n\\n\\nMarina Temkin\\n\\n\\n\\n\\n\\t2 days ago\\n\\n\\nUntil a year ago, Arjun Pillai had the comfortable yet important role of chief data officer at ZoomInfo, a B2B database company. But the serial entrepreneur was getting antsy. He… \\n\\n\\n\\n\\n\\n\\n\\n\\n\\n\\n\\t\\tApps\\t\\nSubstack writers can now draft and publish posts in iOS app\\n\\n\\n\\nAisha Malik\\n\\n\\n\\n\\n\\t2 days ago\\n\\n\\nSubstack is rolling out the ability for writers to draft and publish new posts directly from their phone via its iOS app, the company announced on Thursday. Until now, users… \\n\\n\\n\\n\\n\\n\\n\\n\\n\\n\\n\\t\\tTechCrunch Disrupt 2024\\t\\nDisrupt 2024 Career Fair: Your gateway to top tech talent\\n\\n\\n\\nTechCrunch Events\\n\\n\\n\\n\\n\\t2 days ago\\n\\n\\nDisrupt 2024 is the premier event where tech careers are launched, connections are forged, and the future of technology talent takes center stage. The Disrupt Career Fair is the perfect… \\n\\n\\n\\n\\n\\n\\n\\n\\n\\nFeatured Article\\nHacked, leaked, exposed: Why you should never use stalkerware apps\\nUsing stalkerware is creepy, unethical, potentially illegal, and puts your data and that of your loved ones in danger. \\n\\n\\n\\nLorenzo Franceschi-Bicchierai\\n\\n\\n\\n\\n\\t2 days ago\\n\\n\\n\\n\\n\\n\\n\\n\\n\\nFeatured Article\\nEndeavor CEO says long-term capital needs to be prioritized in emerging ecosystems\\nVenture capital has become a more global industry as the tech sector slowly decentralizes. In 2022, more than 50% of VC deployed globally was invested in startups outside the U.S., according to data available from the National Science Foundation (NSF) — a stark contrast to 20 years ago, when nearly… \\n\\n\\n\\nTage Kene-Okafor\\n\\n\\n\\n\\n\\t2 days ago\\n\\n\\n\\n\\n\\n\\n\\n\\n\\n\\n\\n\\n\\n\\n\\n\\n\\n\\n\\n\\n\\n\\n\\n\\n\\n\\n\\n\\n\\n\\n\\n\\n\\n\\n\\nAbout\\nTechCrunchStaffContact UsAdvertiseCrunchboard JobsSite Map\\n\\n\\n\\nLegal\\nTerms of ServicePrivacy PolicyRSS Terms of UsePrivacy Placeholder 1Privacy Placeholder 2Privacy Placeholder 3Privacy Placeholder 4Code of ConductAbout Our Ads\\n\\n\\n\\nTrending Tech Topics\\nSearchGPTGoogle Gemini ChatbotKodiak RoboticsMIstral’s Large 2Optimus RobotTech LayoffsChatGPT\\n\\n\\nFacebook\\nX\\nYouTube\\nInstagram\\nLinkedIn\\nMastodon\\nThreads\\n\\n\\n\\n\\n\\n\\n\\n\\n\\t\\t©\\n\\t\\n\\n\\t\\t2024\\t\\nYahoo. All rights reserved.\\n\\nPowered by WordPress VIP'),\n",
       " Document(metadata={'source': 'https://techcrunch.com/2024/01/30/chatgpt-users-can-now-invoke-gpts-directly-in-chats/', 'title': 'ChatGPT users can now invoke GPTs directly in chats | TechCrunch', 'description': \"Users of ChatGPT can now invoke custom GPTs, chatbots built on top of OpenAI's GenAI models, in conversations. GPTs will have the full context of those convos.\", 'language': 'en-US'}, page_content='ChatGPT users can now invoke GPTs directly in chats | TechCrunch\\n\\n\\n\\n\\n\\n\\n\\n\\n\\n\\n\\n\\n\\n\\n\\n\\n\\n\\n\\n\\n\\n\\n\\n\\n\\n\\n\\n\\n\\n\\n\\n\\n\\n\\n\\n\\n\\n\\n\\n\\n\\n\\n\\n\\n\\n\\n\\n\\n\\n\\n\\n\\n\\n\\n\\n\\n\\n\\n \\n\\n\\n\\n\\n\\n\\n\\n\\n\\n\\n\\n\\n\\n\\n\\n\\n\\n\\n\\n\\n\\n\\n\\n\\n\\n\\nLogin\\n\\n\\n\\n\\n\\nSearchStartupsVentureAppleSecurityAIAppsEventsStartup BattlefieldMoreFintechCloud ComputingLayoffsHardwareGoogleMicrosoftTransportationEVsMetaInstagramAmazonTikTokNewslettersPodcastsPartner ContentCrunchboard JobsContact UsSearch\\n\\n\\n\\n\\n\\n\\n\\n\\n\\n\\n\\n\\n\\t\\tAI\\t\\nChatGPT users can now invoke GPTs directly in chats\\n\\n\\n\\n\\nKyle Wiggers\\n\\n\\n1:15 PM PST • January 30, 2024\\n\\n\\n\\nComment\\n\\n\\nImage Credits: Didem Mente/Anadolu Agency / Getty Images\\n\\n\\nOpenAI is pushing adoption of GPTs, third-party apps powered by its AI models, by enabling ChatGPT users to invoke them in any chat.\\nStarting today, paid users of ChatGPT, OpenAI’s AI chatbot front end, can bring GPTs into a conversation by typing “@” and selecting a GPT from the list. The chosen GPT will have an understanding of the full conversation, and different GPTs can be “tagged in” for different use cases and needs — jumping into the conversation with context of things that were said previously.\\n\\n\\n\\n“This allows you to add relevant GPTs with the full context of the conversation,” OpenAI said in a tweet.\\n\\nYou can now bring GPTs into any conversation in ChatGPT – simply type @ and select the GPT. \\nThis allows you to add relevant GPTs with the full context of the conversation. pic.twitter.com/Pjn5uIy9NF\\n— OpenAI (@OpenAI) January 30, 2024\\n\\n\\n\\n\\n\\n\\nThe move to make GPTs more discoverable comes weeks after the launch of the GPT Store, a marketplace for GPTs accessible through the ChatGPT dashboard. Building GPTs doesn’t require coding experience, and GPTs can be as simple or complex as a developer wishes. A few available today include a trail recommender from AllTrails, a code tutor from Khan Academy and a content designer from Canva.\\n\\n\\n\\nOpenAI plans to eventually introduce monetization for developers who wish to sell access to their GPTs. But the company might have to get traffic up first. According to data from Similarweb, the web analytics company, custom GPTs comprise only about 2.7% of ChatGPT’s worldwide web traffic so far — and custom GPT traffic has been declining month over month since November.\\nModeration is proving to be another challenge. In the first week of its launch, the GPT Store was flooded with “romantic” chatbots apps, some of which were sexually suggestive — a clear violation of OpenAI’s terms. Developers also rushed to make political campaigning bots — like a chatbot that impersonated U.S. presidential candidate Dean Phillips — another obvious violation.\\nOpenAI, which claims to use a combination of human and automated review to flag GPTs, has since removed some of the offending apps. But if the volume of GPTs grows as the company’s clearly hoping, one imagines that the problem is only going to become more acute.\\n\\n\\n\\n\\n \\n\\n \\n\\n \\n\\n \\n\\n \\n\\n \\n\\n\\nMore TechCrunch\\n\\n\\n\\n\\n\\n\\n\\n\\n\\n\\n\\n\\n\\n\\n\\nGet the industry’s biggest tech news\\nExplore all newsletters')]"
      ]
     },
     "execution_count": 39,
     "metadata": {},
     "output_type": "execute_result"
    }
   ],
   "source": [
    "docs"
   ]
  },
  {
   "cell_type": "code",
   "execution_count": 41,
   "metadata": {},
   "outputs": [
    {
     "data": {
      "text/plain": [
       "ChatPromptTemplate(input_variables=['context', 'question'], messages=[HumanMessagePromptTemplate(prompt=PromptTemplate(input_variables=['context', 'question'], template=' answer the question based on the context.\\n{context}\\nQuestion: {question}'))])"
      ]
     },
     "execution_count": 41,
     "metadata": {},
     "output_type": "execute_result"
    }
   ],
   "source": [
    "from langchain_groq import ChatGroq\n",
    "from langchain.prompts import ChatPromptTemplate\n",
    "\n",
    "template = \"\"\" answer the question based on the context.\n",
    "{context}\n",
    "Question: {question}\"\"\"\n",
    "\n",
    "prompt = ChatPromptTemplate.from_template(template)\n",
    "prompt"
   ]
  },
  {
   "cell_type": "code",
   "execution_count": 42,
   "metadata": {},
   "outputs": [],
   "source": [
    "llm = ChatGroq(model=\"llama3-8b-8192\", temperature=0)"
   ]
  },
  {
   "cell_type": "code",
   "execution_count": 47,
   "metadata": {},
   "outputs": [
    {
     "data": {
      "text/plain": [
       "AIMessage(content='Based on the context of the article, there is no mention of \"Hallucination\". The article discusses ChatGPT, a text-generating AI chatbot, and its ability to invoke custom GPTs (chatbots built on top of OpenAI\\'s GenAI models) in conversations. It also mentions the challenges of moderation and monetization for developers who create GPTs.', response_metadata={'token_usage': {'completion_tokens': 78, 'prompt_tokens': 3775, 'total_tokens': 3853, 'completion_time': 0.062550671, 'prompt_time': 0.720834241, 'queue_time': None, 'total_time': 0.783384912}, 'model_name': 'llama3-8b-8192', 'system_fingerprint': 'fp_873a560973', 'finish_reason': 'stop', 'logprobs': None}, id='run-9dc1471a-161e-416a-8ceb-73c14f83955e-0', usage_metadata={'input_tokens': 3775, 'output_tokens': 78, 'total_tokens': 3853})"
      ]
     },
     "execution_count": 47,
     "metadata": {},
     "output_type": "execute_result"
    }
   ],
   "source": [
    "chain = prompt | llm\n",
    "chain.invoke({\"context\":docs,\"question\":\"What is Hallucination?\"})"
   ]
  },
  {
   "cell_type": "code",
   "execution_count": null,
   "metadata": {},
   "outputs": [],
   "source": []
  }
 ],
 "metadata": {
  "kernelspec": {
   "display_name": "ollama",
   "language": "python",
   "name": "python3"
  },
  "language_info": {
   "codemirror_mode": {
    "name": "ipython",
    "version": 3
   },
   "file_extension": ".py",
   "mimetype": "text/x-python",
   "name": "python",
   "nbconvert_exporter": "python",
   "pygments_lexer": "ipython3",
   "version": "3.12.4"
  }
 },
 "nbformat": 4,
 "nbformat_minor": 2
}
